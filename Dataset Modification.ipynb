{
 "cells": [
  {
   "cell_type": "code",
   "execution_count": 2,
   "metadata": {},
   "outputs": [
    {
     "name": "stdout",
     "output_type": "stream",
     "text": [
      "The jupyter_record extension is already loaded. To reload it, use:\n",
      "  %reload_ext jupyter_record\n"
     ]
    }
   ],
   "source": [
    "# do not touch this cell \n",
    "%load_ext jupyter_record\n"
   ]
  },
  {
   "cell_type": "code",
   "execution_count": 51,
   "metadata": {},
   "outputs": [],
   "source": [
    "%%git_commit\n",
    "\n",
    "import pandas as pd\n",
    "import numpy as np"
   ]
  },
  {
   "cell_type": "code",
   "execution_count": 6,
   "metadata": {},
   "outputs": [
    {
     "data": {
      "text/plain": [
       "Index(['FlightDate', 'Airline', 'Origin', 'Dest', 'Cancelled', 'Diverted',\n",
       "       'CRSDepTime', 'DepTime', 'DepDelayMinutes', 'DepDelay', 'ArrTime',\n",
       "       'ArrDelayMinutes', 'AirTime', 'CRSElapsedTime', 'ActualElapsedTime',\n",
       "       'Distance', 'Year', 'Quarter', 'Month', 'DayofMonth', 'DayOfWeek',\n",
       "       'Marketing_Airline_Network', 'Operated_or_Branded_Code_Share_Partners',\n",
       "       'DOT_ID_Marketing_Airline', 'IATA_Code_Marketing_Airline',\n",
       "       'Flight_Number_Marketing_Airline', 'Operating_Airline',\n",
       "       'DOT_ID_Operating_Airline', 'IATA_Code_Operating_Airline',\n",
       "       'Tail_Number', 'Flight_Number_Operating_Airline', 'OriginAirportID',\n",
       "       'OriginAirportSeqID', 'OriginCityMarketID', 'OriginCityName',\n",
       "       'OriginState', 'OriginStateFips', 'OriginStateName', 'OriginWac',\n",
       "       'DestAirportID', 'DestAirportSeqID', 'DestCityMarketID', 'DestCityName',\n",
       "       'DestState', 'DestStateFips', 'DestStateName', 'DestWac', 'DepDel15',\n",
       "       'DepartureDelayGroups', 'DepTimeBlk', 'TaxiOut', 'WheelsOff',\n",
       "       'WheelsOn', 'TaxiIn', 'CRSArrTime', 'ArrDelay', 'ArrDel15',\n",
       "       'ArrivalDelayGroups', 'ArrTimeBlk', 'DistanceGroup',\n",
       "       'DivAirportLandings'],\n",
       "      dtype='object')"
      ]
     },
     "execution_count": 6,
     "metadata": {},
     "output_type": "execute_result"
    }
   ],
   "source": [
    "%%git_commit\n",
    "dataset.keys()"
   ]
  },
  {
   "cell_type": "code",
   "execution_count": 19,
   "metadata": {},
   "outputs": [],
   "source": [
    "%%git_commit\n",
    "\n",
    "dropped_column = ['DepTime', 'DepDelay', 'ArrTime', 'ArrDelayMinutes', 'AirTime', 'ActualElapsedTime', 'DepDel15', 'DepartureDelayGroups', 'DepTimeBlk', 'TaxiOut', 'WheelsOff', 'WheelsOn', 'TaxiIn', 'ArrDelay', 'ArrDel15', 'ArrivalDelayGroups', 'ArrTimeBlk', 'DistanceGroup', 'DivAirportLandings']"
   ]
  },
  {
   "cell_type": "code",
   "execution_count": 20,
   "metadata": {},
   "outputs": [],
   "source": [
    "%%git_commit\n",
    "\n",
    "for column in dropped_column:\n",
    "    dataset = dataset.drop(column, axis = 1)\n",
    "    "
   ]
  },
  {
   "cell_type": "code",
   "execution_count": 26,
   "metadata": {},
   "outputs": [],
   "source": [
    "%%git_commit\n",
    "df = dataset.dropna()"
   ]
  },
  {
   "cell_type": "markdown",
   "metadata": {},
   "source": [
    "# Evaluate Departure Delay \n"
   ]
  },
  {
   "cell_type": "markdown",
   "metadata": {},
   "source": [
    "TODOS\n",
    "- Define Subset of features\n",
    "- For each feature, convert to appropriate value\n",
    "- Test time series prediction, normal prediction\n"
   ]
  },
  {
   "cell_type": "code",
   "execution_count": 4,
   "metadata": {},
   "outputs": [
    {
     "ename": "ParserError",
     "evalue": "Error tokenizing data. C error: Calling read(nbytes) on source failed. Try engine='python'.",
     "output_type": "error",
     "traceback": [
      "\u001b[0;31m---------------------------------------------------------------------------\u001b[0m",
      "\u001b[0;31mParserError\u001b[0m                               Traceback (most recent call last)",
      "\u001b[0;32m<ipython-input-4-1c73d2d475db>\u001b[0m in \u001b[0;36m<module>\u001b[0;34m\u001b[0m\n\u001b[0;32m----> 1\u001b[0;31m \u001b[0mtraining\u001b[0m \u001b[0;34m=\u001b[0m \u001b[0mpd\u001b[0m\u001b[0;34m.\u001b[0m\u001b[0mread_csv\u001b[0m\u001b[0;34m(\u001b[0m\u001b[0;34m'../archive/Combined_Flights_2018.csv'\u001b[0m\u001b[0;34m)\u001b[0m\u001b[0;34m\u001b[0m\u001b[0;34m\u001b[0m\u001b[0m\n\u001b[0m\u001b[1;32m      2\u001b[0m \u001b[0mtesting\u001b[0m \u001b[0;34m=\u001b[0m \u001b[0mpd\u001b[0m\u001b[0;34m.\u001b[0m\u001b[0mread_csv\u001b[0m\u001b[0;34m(\u001b[0m\u001b[0;34m'../archive/Combined_Flights_2019.csv'\u001b[0m\u001b[0;34m)\u001b[0m\u001b[0;34m\u001b[0m\u001b[0;34m\u001b[0m\u001b[0m\n",
      "\u001b[0;32m~/anaconda3/lib/python3.8/site-packages/pandas/util/_decorators.py\u001b[0m in \u001b[0;36mwrapper\u001b[0;34m(*args, **kwargs)\u001b[0m\n\u001b[1;32m    309\u001b[0m                     \u001b[0mstacklevel\u001b[0m\u001b[0;34m=\u001b[0m\u001b[0mstacklevel\u001b[0m\u001b[0;34m,\u001b[0m\u001b[0;34m\u001b[0m\u001b[0;34m\u001b[0m\u001b[0m\n\u001b[1;32m    310\u001b[0m                 )\n\u001b[0;32m--> 311\u001b[0;31m             \u001b[0;32mreturn\u001b[0m \u001b[0mfunc\u001b[0m\u001b[0;34m(\u001b[0m\u001b[0;34m*\u001b[0m\u001b[0margs\u001b[0m\u001b[0;34m,\u001b[0m \u001b[0;34m**\u001b[0m\u001b[0mkwargs\u001b[0m\u001b[0;34m)\u001b[0m\u001b[0;34m\u001b[0m\u001b[0;34m\u001b[0m\u001b[0m\n\u001b[0m\u001b[1;32m    312\u001b[0m \u001b[0;34m\u001b[0m\u001b[0m\n\u001b[1;32m    313\u001b[0m         \u001b[0;32mreturn\u001b[0m \u001b[0mwrapper\u001b[0m\u001b[0;34m\u001b[0m\u001b[0;34m\u001b[0m\u001b[0m\n",
      "\u001b[0;32m~/anaconda3/lib/python3.8/site-packages/pandas/io/parsers/readers.py\u001b[0m in \u001b[0;36mread_csv\u001b[0;34m(filepath_or_buffer, sep, delimiter, header, names, index_col, usecols, squeeze, prefix, mangle_dupe_cols, dtype, engine, converters, true_values, false_values, skipinitialspace, skiprows, skipfooter, nrows, na_values, keep_default_na, na_filter, verbose, skip_blank_lines, parse_dates, infer_datetime_format, keep_date_col, date_parser, dayfirst, cache_dates, iterator, chunksize, compression, thousands, decimal, lineterminator, quotechar, quoting, doublequote, escapechar, comment, encoding, encoding_errors, dialect, error_bad_lines, warn_bad_lines, on_bad_lines, delim_whitespace, low_memory, memory_map, float_precision, storage_options)\u001b[0m\n\u001b[1;32m    678\u001b[0m     \u001b[0mkwds\u001b[0m\u001b[0;34m.\u001b[0m\u001b[0mupdate\u001b[0m\u001b[0;34m(\u001b[0m\u001b[0mkwds_defaults\u001b[0m\u001b[0;34m)\u001b[0m\u001b[0;34m\u001b[0m\u001b[0;34m\u001b[0m\u001b[0m\n\u001b[1;32m    679\u001b[0m \u001b[0;34m\u001b[0m\u001b[0m\n\u001b[0;32m--> 680\u001b[0;31m     \u001b[0;32mreturn\u001b[0m \u001b[0m_read\u001b[0m\u001b[0;34m(\u001b[0m\u001b[0mfilepath_or_buffer\u001b[0m\u001b[0;34m,\u001b[0m \u001b[0mkwds\u001b[0m\u001b[0;34m)\u001b[0m\u001b[0;34m\u001b[0m\u001b[0;34m\u001b[0m\u001b[0m\n\u001b[0m\u001b[1;32m    681\u001b[0m \u001b[0;34m\u001b[0m\u001b[0m\n\u001b[1;32m    682\u001b[0m \u001b[0;34m\u001b[0m\u001b[0m\n",
      "\u001b[0;32m~/anaconda3/lib/python3.8/site-packages/pandas/io/parsers/readers.py\u001b[0m in \u001b[0;36m_read\u001b[0;34m(filepath_or_buffer, kwds)\u001b[0m\n\u001b[1;32m    579\u001b[0m \u001b[0;34m\u001b[0m\u001b[0m\n\u001b[1;32m    580\u001b[0m     \u001b[0;32mwith\u001b[0m \u001b[0mparser\u001b[0m\u001b[0;34m:\u001b[0m\u001b[0;34m\u001b[0m\u001b[0;34m\u001b[0m\u001b[0m\n\u001b[0;32m--> 581\u001b[0;31m         \u001b[0;32mreturn\u001b[0m \u001b[0mparser\u001b[0m\u001b[0;34m.\u001b[0m\u001b[0mread\u001b[0m\u001b[0;34m(\u001b[0m\u001b[0mnrows\u001b[0m\u001b[0;34m)\u001b[0m\u001b[0;34m\u001b[0m\u001b[0;34m\u001b[0m\u001b[0m\n\u001b[0m\u001b[1;32m    582\u001b[0m \u001b[0;34m\u001b[0m\u001b[0m\n\u001b[1;32m    583\u001b[0m \u001b[0;34m\u001b[0m\u001b[0m\n",
      "\u001b[0;32m~/anaconda3/lib/python3.8/site-packages/pandas/io/parsers/readers.py\u001b[0m in \u001b[0;36mread\u001b[0;34m(self, nrows)\u001b[0m\n\u001b[1;32m   1252\u001b[0m             \u001b[0mnrows\u001b[0m \u001b[0;34m=\u001b[0m \u001b[0mvalidate_integer\u001b[0m\u001b[0;34m(\u001b[0m\u001b[0;34m\"nrows\"\u001b[0m\u001b[0;34m,\u001b[0m \u001b[0mnrows\u001b[0m\u001b[0;34m)\u001b[0m\u001b[0;34m\u001b[0m\u001b[0;34m\u001b[0m\u001b[0m\n\u001b[1;32m   1253\u001b[0m             \u001b[0;32mtry\u001b[0m\u001b[0;34m:\u001b[0m\u001b[0;34m\u001b[0m\u001b[0;34m\u001b[0m\u001b[0m\n\u001b[0;32m-> 1254\u001b[0;31m                 \u001b[0mindex\u001b[0m\u001b[0;34m,\u001b[0m \u001b[0mcolumns\u001b[0m\u001b[0;34m,\u001b[0m \u001b[0mcol_dict\u001b[0m \u001b[0;34m=\u001b[0m \u001b[0mself\u001b[0m\u001b[0;34m.\u001b[0m\u001b[0m_engine\u001b[0m\u001b[0;34m.\u001b[0m\u001b[0mread\u001b[0m\u001b[0;34m(\u001b[0m\u001b[0mnrows\u001b[0m\u001b[0;34m)\u001b[0m\u001b[0;34m\u001b[0m\u001b[0;34m\u001b[0m\u001b[0m\n\u001b[0m\u001b[1;32m   1255\u001b[0m             \u001b[0;32mexcept\u001b[0m \u001b[0mException\u001b[0m\u001b[0;34m:\u001b[0m\u001b[0;34m\u001b[0m\u001b[0;34m\u001b[0m\u001b[0m\n\u001b[1;32m   1256\u001b[0m                 \u001b[0mself\u001b[0m\u001b[0;34m.\u001b[0m\u001b[0mclose\u001b[0m\u001b[0;34m(\u001b[0m\u001b[0;34m)\u001b[0m\u001b[0;34m\u001b[0m\u001b[0;34m\u001b[0m\u001b[0m\n",
      "\u001b[0;32m~/anaconda3/lib/python3.8/site-packages/pandas/io/parsers/c_parser_wrapper.py\u001b[0m in \u001b[0;36mread\u001b[0;34m(self, nrows)\u001b[0m\n\u001b[1;32m    223\u001b[0m         \u001b[0;32mtry\u001b[0m\u001b[0;34m:\u001b[0m\u001b[0;34m\u001b[0m\u001b[0;34m\u001b[0m\u001b[0m\n\u001b[1;32m    224\u001b[0m             \u001b[0;32mif\u001b[0m \u001b[0mself\u001b[0m\u001b[0;34m.\u001b[0m\u001b[0mlow_memory\u001b[0m\u001b[0;34m:\u001b[0m\u001b[0;34m\u001b[0m\u001b[0;34m\u001b[0m\u001b[0m\n\u001b[0;32m--> 225\u001b[0;31m                 \u001b[0mchunks\u001b[0m \u001b[0;34m=\u001b[0m \u001b[0mself\u001b[0m\u001b[0;34m.\u001b[0m\u001b[0m_reader\u001b[0m\u001b[0;34m.\u001b[0m\u001b[0mread_low_memory\u001b[0m\u001b[0;34m(\u001b[0m\u001b[0mnrows\u001b[0m\u001b[0;34m)\u001b[0m\u001b[0;34m\u001b[0m\u001b[0;34m\u001b[0m\u001b[0m\n\u001b[0m\u001b[1;32m    226\u001b[0m                 \u001b[0;31m# destructive to chunks\u001b[0m\u001b[0;34m\u001b[0m\u001b[0;34m\u001b[0m\u001b[0;34m\u001b[0m\u001b[0m\n\u001b[1;32m    227\u001b[0m                 \u001b[0mdata\u001b[0m \u001b[0;34m=\u001b[0m \u001b[0m_concatenate_chunks\u001b[0m\u001b[0;34m(\u001b[0m\u001b[0mchunks\u001b[0m\u001b[0;34m)\u001b[0m\u001b[0;34m\u001b[0m\u001b[0;34m\u001b[0m\u001b[0m\n",
      "\u001b[0;32mpandas/_libs/parsers.pyx\u001b[0m in \u001b[0;36mpandas._libs.parsers.TextReader.read_low_memory\u001b[0;34m()\u001b[0m\n",
      "\u001b[0;32mpandas/_libs/parsers.pyx\u001b[0m in \u001b[0;36mpandas._libs.parsers.TextReader._read_rows\u001b[0;34m()\u001b[0m\n",
      "\u001b[0;32mpandas/_libs/parsers.pyx\u001b[0m in \u001b[0;36mpandas._libs.parsers.TextReader._tokenize_rows\u001b[0;34m()\u001b[0m\n",
      "\u001b[0;32mpandas/_libs/parsers.pyx\u001b[0m in \u001b[0;36mpandas._libs.parsers.raise_parser_error\u001b[0;34m()\u001b[0m\n",
      "\u001b[0;31mParserError\u001b[0m: Error tokenizing data. C error: Calling read(nbytes) on source failed. Try engine='python'."
     ]
    }
   ],
   "source": [
    "%%git_commit\n",
    "\n",
    "training = pd.read_csv('../archive/Combined_Flights_2018.csv')\n",
    "testing = pd.read_csv('../archive/Combined_Flights_2019.csv')\n"
   ]
  },
  {
   "cell_type": "code",
   "execution_count": 5,
   "metadata": {},
   "outputs": [
    {
     "ename": "NameError",
     "evalue": "name 'testing' is not defined",
     "output_type": "error",
     "traceback": [
      "\u001b[0;31m---------------------------------------------------------------------------\u001b[0m",
      "\u001b[0;31mNameError\u001b[0m                                 Traceback (most recent call last)",
      "\u001b[0;32m<ipython-input-5-9801739daae4>\u001b[0m in \u001b[0;36m<module>\u001b[0;34m\u001b[0m\n\u001b[0;32m----> 1\u001b[0;31m \u001b[0mtesting\u001b[0m\u001b[0;34m\u001b[0m\u001b[0;34m\u001b[0m\u001b[0m\n\u001b[0m",
      "\u001b[0;31mNameError\u001b[0m: name 'testing' is not defined"
     ]
    }
   ],
   "source": [
    "%%git_commit\n",
    "\n",
    "testing\n"
   ]
  },
  {
   "cell_type": "code",
   "execution_count": 6,
   "metadata": {},
   "outputs": [
    {
     "ename": "NameError",
     "evalue": "name 'training' is not defined",
     "output_type": "error",
     "traceback": [
      "\u001b[0;31m---------------------------------------------------------------------------\u001b[0m",
      "\u001b[0;31mNameError\u001b[0m                                 Traceback (most recent call last)",
      "\u001b[0;32m<ipython-input-6-81c24f409a8a>\u001b[0m in \u001b[0;36m<module>\u001b[0;34m\u001b[0m\n\u001b[0;32m----> 1\u001b[0;31m \u001b[0mtraining\u001b[0m\u001b[0;34m\u001b[0m\u001b[0;34m\u001b[0m\u001b[0m\n\u001b[0m",
      "\u001b[0;31mNameError\u001b[0m: name 'training' is not defined"
     ]
    }
   ],
   "source": [
    "%%git_commit\n",
    "training"
   ]
  },
  {
   "cell_type": "code",
   "execution_count": 7,
   "metadata": {},
   "outputs": [],
   "source": [
    "%%git_commit\n",
    "\n",
    "training = training.dropna()\n",
    "testing = testing.dropna()"
   ]
  },
  {
   "cell_type": "code",
   "execution_count": 36,
   "metadata": {},
   "outputs": [],
   "source": [
    "%%git_commit\n",
    "\n",
    "dropped_column = ['Flight_Number_Marketing_Airline', 'Flight_Number_Operating_Airline', 'DepTime', 'DepDelay', 'ArrTime', 'ArrDelayMinutes', 'AirTime', 'ActualElapsedTime', 'DepDelayMinutes', 'DepartureDelayGroups', 'DepTimeBlk', 'TaxiOut', 'WheelsOff', 'WheelsOn', 'TaxiIn', 'ArrDelay', 'ArrDel15', 'ArrivalDelayGroups', 'ArrTimeBlk', 'DistanceGroup', 'DivAirportLandings']\n",
    "\n",
    "\n"
   ]
  },
  {
   "cell_type": "code",
   "execution_count": 9,
   "metadata": {},
   "outputs": [],
   "source": [
    "%%git_commit\n",
    "\n",
    "for column in dropped_column:\n",
    "    training = training.drop(column, axis = 1)\n",
    "    testing = testing.drop(column, axis = 1)\n",
    "    "
   ]
  },
  {
   "cell_type": "code",
   "execution_count": 10,
   "metadata": {},
   "outputs": [
    {
     "data": {
      "text/plain": [
       "Index(['FlightDate', 'Airline', 'Origin', 'Dest', 'Cancelled', 'Diverted',\n",
       "       'CRSDepTime', 'CRSElapsedTime', 'Distance', 'Year', 'Quarter', 'Month',\n",
       "       'DayofMonth', 'DayOfWeek', 'Marketing_Airline_Network',\n",
       "       'Operated_or_Branded_Code_Share_Partners', 'DOT_ID_Marketing_Airline',\n",
       "       'IATA_Code_Marketing_Airline', 'Operating_Airline',\n",
       "       'DOT_ID_Operating_Airline', 'IATA_Code_Operating_Airline',\n",
       "       'Tail_Number', 'OriginAirportID', 'OriginAirportSeqID',\n",
       "       'OriginCityMarketID', 'OriginCityName', 'OriginState',\n",
       "       'OriginStateFips', 'OriginStateName', 'OriginWac', 'DestAirportID',\n",
       "       'DestAirportSeqID', 'DestCityMarketID', 'DestCityName', 'DestState',\n",
       "       'DestStateFips', 'DestStateName', 'DestWac', 'DepDel15', 'CRSArrTime'],\n",
       "      dtype='object')"
      ]
     },
     "execution_count": 10,
     "metadata": {},
     "output_type": "execute_result"
    }
   ],
   "source": [
    "%%git_commit\n",
    "\n",
    "training.keys()\n"
   ]
  },
  {
   "cell_type": "code",
   "execution_count": 11,
   "metadata": {},
   "outputs": [],
   "source": [
    "%%git_commit\n",
    "\n",
    "d2_column = ['FlightDate', 'Marketing_Airline_Network', 'Operated_or_Branded_Code_Share_Partners' ,  'DOT_ID_Marketing_Airline', 'IATA_Code_Marketing_Airline', 'DOT_ID_Operating_Airline', 'IATA_Code_Operating_Airline', 'OriginAirportSeqID', 'DestAirportSeqID', 'CRSArrTime', 'DestStateName', 'DestState', 'DestCityName', 'OriginStateName', 'OriginState', 'OriginCityName','Year',  'Diverted', 'Cancelled', 'Tail_Number']\n",
    "\n",
    "\n"
   ]
  },
  {
   "cell_type": "code",
   "execution_count": 12,
   "metadata": {},
   "outputs": [],
   "source": [
    "%%git_commit\n",
    "\n",
    "for column in d2_column:\n",
    "    training = training.drop(column, axis = 1)\n",
    "    testing = testing.drop(column, axis = 1)"
   ]
  },
  {
   "cell_type": "code",
   "execution_count": 13,
   "metadata": {},
   "outputs": [
    {
     "data": {
      "text/plain": [
       "Index(['Airline', 'Origin', 'Dest', 'CRSDepTime', 'CRSElapsedTime', 'Distance',\n",
       "       'Quarter', 'Month', 'DayofMonth', 'DayOfWeek', 'Operating_Airline',\n",
       "       'OriginAirportID', 'OriginCityMarketID', 'OriginStateFips', 'OriginWac',\n",
       "       'DestAirportID', 'DestCityMarketID', 'DestStateFips', 'DestWac',\n",
       "       'DepDel15'],\n",
       "      dtype='object')"
      ]
     },
     "execution_count": 13,
     "metadata": {},
     "output_type": "execute_result"
    }
   ],
   "source": [
    "%%git_commit\n",
    "\n",
    "testing.keys()"
   ]
  },
  {
   "cell_type": "code",
   "execution_count": 14,
   "metadata": {},
   "outputs": [
    {
     "name": "stdout",
     "output_type": "stream",
     "text": [
      "Airline\n",
      "['Endeavor Air Inc.' 'JetBlue Airways' 'ExpressJet Airlines Inc.'\n",
      " 'Allegiant Air' 'Hawaiian Airlines Inc.' 'Spirit Air Lines'\n",
      " 'SkyWest Airlines Inc.' 'Frontier Airlines Inc.' 'Southwest Airlines Co.'\n",
      " 'Mesa Airlines Inc.' 'Republic Airlines' 'Delta Air Lines Inc.'\n",
      " 'United Air Lines Inc.' 'Alaska Airlines Inc.' 'Horizon Air'\n",
      " 'Commutair Aka Champlain Enterprises, Inc.' 'Trans States Airlines'\n",
      " 'GoJet Airlines, LLC d/b/a United Express' 'Air Wisconsin Airlines Corp'\n",
      " 'Cape Air' 'Compass Airlines' 'Virgin America' 'Peninsula Airways Inc.'\n",
      " 'Envoy Air' 'American Airlines Inc.' 'Comair Inc.'\n",
      " 'Capital Cargo International' 'Empire Airlines Inc.']\n",
      "Origin\n",
      "['ABY' 'ATL' 'MOB' 'BUF' 'BTV' 'CVG' 'LGA' 'CHO' 'EWN' 'MCI' 'MGM' 'MSP'\n",
      " 'DCA' 'FAY' 'OAJ' 'STL' 'CWA' 'DTW' 'RDU' 'SRQ' 'AEX' 'AUS' 'CSG' 'EVV'\n",
      " 'IND' 'CLE' 'PIA' 'TRI' 'BGR' 'IAD' 'PWM' 'TYS' 'GSO' 'AVL' 'BTR' 'MKE'\n",
      " 'CMH' 'GRR' 'GSP' 'BIS' 'ORD' 'ROC' 'CHA' 'FSM' 'JAX' 'BOS' 'GRB' 'TUL'\n",
      " 'VLD' 'CRW' 'IAH' 'XNA' 'JAN' 'CHS' 'ROA' 'GFK' 'SYR' 'MDT' 'SAT' 'BMI'\n",
      " 'LFT' 'BNA' 'PHL' 'BQK' 'ORF' 'GNV' 'DFW' 'OMA' 'TPA' 'SAV' 'BWI' 'MEM'\n",
      " 'MBS' 'LEX' 'CLT' 'DAY' 'MOT' 'FAR' 'CAE' 'DSM' 'PIT' 'DHN' 'MHT' 'ILM'\n",
      " 'SGF' 'ELM' 'BDL' 'MCO' 'RIC' 'SHV' 'MSY' 'HSV' 'TLH' 'LAN' 'LIT' 'GRK'\n",
      " 'MSN' 'ATW' 'HRL' 'HPN' 'CAK' 'EWR' 'RSW' 'BQN' 'PBI' 'FLL' 'SLC' 'PSE'\n",
      " 'JFK' 'SJC' 'LAS' 'LGB' 'LAX' 'SFO' 'SJU' 'HOU' 'DEN' 'SEA' 'STT' 'PVD'\n",
      " 'PDX' 'SAN' 'RNO' 'ALB' 'PHX' 'OAK' 'PSP' 'SMF' 'STX' 'BUR' 'SWF' 'DAB'\n",
      " 'ORH' 'ABQ' 'ELP' 'LCH' 'HOB' 'PNS' 'COS' 'ICT' 'CLL' 'OKC' 'ECP' 'MFE'\n",
      " 'MYR' 'BHM' 'AGS' 'AZO' 'GPT' 'RST' 'VPS' 'EYW' 'PHF' 'ABE' 'CID' 'LNK'\n",
      " 'MLI' 'SFB' 'BIL' 'FNT' 'MSO' 'IDA' 'SCK' 'TOL' 'FSD' 'HTS' 'FAT' 'EUG'\n",
      " 'BLI' 'PGD' 'STC' 'PIE' 'PBG' 'SBN' 'OGS' 'USA' 'SPI' 'PVU' 'AZA' 'MTJ'\n",
      " 'FWA' 'SDF' 'PSM' 'TTN' 'IAG' 'LCK' 'BLV' 'RFD' 'OGD' 'BOI' 'MFR' 'GTF'\n",
      " 'PSC' 'GRI' 'MRY' 'GJT' 'LRD' 'RAP' 'FCA' 'SMX' 'BZN' 'HGR' 'CKB' 'OWB'\n",
      " 'HNL' 'OGG' 'KOA' 'LIH' 'ITO' 'ACY' 'ONT' 'ACV' 'BFL' 'ASE' 'TWF' 'GEG'\n",
      " 'RDM' 'TUS' 'DRO' 'SBA' 'RDD' 'COU' 'SNA' 'MMH' 'JAC' 'CPR' 'SBP' 'MAF'\n",
      " 'ISN' 'STS' 'BRO' 'HDN' 'ITH' 'LWS' 'PIH' 'ABR' 'APN' 'ESC' 'PLN' 'BJI'\n",
      " 'BRD' 'BTM' 'CDC' 'SGU' 'CIU' 'EKO' 'COD' 'HIB' 'BGM' 'MQT' 'RHI' 'LSE'\n",
      " 'INL' 'DAL' 'TVC' 'GTR' 'SCE' 'ERI' 'IMT' 'DLH' 'MDW' 'HLN' 'SUN' 'AVP'\n",
      " 'MLU' 'CMX' 'EAU' 'GCC' 'RKS' 'PUB' 'MKG' 'CGI' 'UIN' 'DVL' 'JMS' 'LAR'\n",
      " 'HYS' 'PAH' 'EGE' 'OTH' 'AMA' 'ISP' 'MIA' 'PPG' 'LBE' 'CRP' 'LBB' 'MLB'\n",
      " 'ANC' 'FAI' 'GUM' 'GUC' 'ADQ' 'BET' 'SCC' 'BRW' 'JNU' 'KTN' 'SIT' 'OME'\n",
      " 'OTZ' 'YAK' 'CDV' 'WRG' 'PSG' 'ADK' 'SAF' 'DIK' 'CMI' 'SPN' 'ROP' 'PUW'\n",
      " 'EAT' 'ALW' 'YKM' 'YNG' 'DUT' 'BFF' 'ACK' 'MVY' 'BKG' 'TYR' 'SJT' 'BPT'\n",
      " 'SWO' 'LAW' 'ACT' 'FLG' 'YUM' 'ROW' 'MEI' 'PIB' 'LBF' 'LWB' 'SHD' 'EAR'\n",
      " 'SLN' 'VEL' 'CNY' 'LBL' 'PRC' 'MHK' 'ABI' 'GCK' 'PGV' 'HVN' 'LYH' 'PQI'\n",
      " 'HHH' 'GGG' 'SUX' 'TXK' 'DBQ' 'SBY' 'FLO' 'IPT' 'ART' 'ALO' 'SPS' 'JLN'\n",
      " 'CYS' 'DRT' 'LNY' 'MKK' 'JHM' 'HYA' 'GST' 'AKN' 'DLG' 'WYS']\n",
      "Dest\n",
      "['ATL' 'ABY' 'MOB' 'EVV' 'DTW' 'OAJ' 'BOS' 'SYR' 'EWN' 'MGM' 'LGA' 'MSP'\n",
      " 'CLE' 'FAY' 'JFK' 'STL' 'CMH' 'IND' 'TYS' 'CWA' 'AEX' 'GRK' 'SAT' 'PIA'\n",
      " 'IAH' 'DFW' 'RIC' 'PWM' 'AZO' 'CVG' 'TRI' 'IAD' 'AVL' 'BTR' 'BUF' 'GRR'\n",
      " 'BIS' 'CHA' 'TVC' 'FSM' 'BTV' 'MCI' 'GRB' 'VLD' 'CRW' 'XNA' 'ROC' 'ROA'\n",
      " 'MDT' 'MSY' 'BNA' 'RDU' 'MKE' 'GNV' 'TPA' 'GSO' 'CHO' 'BGR' 'GFK' 'BQK'\n",
      " 'MEM' 'ILM' 'BMI' 'ORF' 'MHT' 'DAY' 'CLT' 'GSP' 'LEX' 'SDF' 'BDL' 'MBS'\n",
      " 'MOT' 'CAE' 'CSG' 'DSM' 'DHN' 'ELM' 'PIT' 'JAX' 'DCA' 'ORD' 'SGF' 'SHV'\n",
      " 'HSV' 'OMA' 'TLH' 'MSN' 'LAN' 'BWI' 'CHS' 'LIT' 'RSW' 'MCO' 'ATW' 'CAK'\n",
      " 'HRL' 'SAV' 'FAR' 'HPN' 'PHL' 'MLI' 'BQN' 'SFO' 'EWR' 'FLL' 'SLC' 'PSE'\n",
      " 'SJC' 'LGB' 'LAS' 'LAX' 'PBI' 'SJU' 'SRQ' 'AUS' 'SWF' 'DEN' 'SEA' 'HOU'\n",
      " 'PVD' 'SMF' 'STT' 'PDX' 'SAN' 'RNO' 'ALB' 'PHX' 'OAK' 'PSP' 'STX' 'BUR'\n",
      " 'DAB' 'ORH' 'ABQ' 'BRO' 'ELP' 'OKC' 'GPT' 'SBN' 'MFE' 'LCH' 'LFT' 'MYR'\n",
      " 'RST' 'LNK' 'BHM' 'TUL' 'AGS' 'JAN' 'CID' 'ECP' 'VPS' 'EYW' 'ABE' 'SFB'\n",
      " 'BIL' 'FNT' 'MSO' 'IDA' 'SCK' 'TOL' 'FSD' 'HTS' 'FAT' 'EUG' 'BLI' 'PGD'\n",
      " 'STC' 'PIE' 'PBG' 'OGS' 'USA' 'SPI' 'AZA' 'MTJ' 'FWA' 'PSM' 'TTN' 'IAG'\n",
      " 'LCK' 'BLV' 'RFD' 'OGD' 'BOI' 'MFR' 'GTF' 'PSC' 'PVU' 'ICT' 'GRI' 'MRY'\n",
      " 'GJT' 'LRD' 'RAP' 'FCA' 'SMX' 'BZN' 'HGR' 'CKB' 'COS' 'OWB' 'HNL' 'OGG'\n",
      " 'KOA' 'LIH' 'ITO' 'COU' 'CPR' 'AVP' 'TUS' 'RDM' 'SBA' 'ASE' 'ONT' 'HLN'\n",
      " 'DRO' 'ISN' 'ACV' 'SBP' 'MMH' 'GEG' 'JAC' 'STS' 'SNA' 'RDD' 'BFL' 'HDN'\n",
      " 'MAF' 'ITH' 'LWS' 'PIH' 'ABR' 'COD' 'APN' 'ESC' 'PLN' 'BJI' 'BRD' 'BTM'\n",
      " 'CDC' 'SGU' 'CIU' 'MQT' 'EKO' 'HIB' 'BGM' 'TWF' 'RHI' 'INL' 'SUN' 'IMT'\n",
      " 'DAL' 'GTR' 'MLU' 'SCE' 'ERI' 'LSE' 'DLH' 'MDW' 'MKG' 'PUB' 'CMX' 'PAH'\n",
      " 'UIN' 'RKS' 'JMS' 'DVL' 'LAR' 'GCC' 'EAU' 'HYS' 'EGE' 'CGI' 'OTH' 'AMA'\n",
      " 'MIA' 'ISP' 'PPG' 'ACY' 'LBE' 'LBB' 'PNS' 'CRP' 'MLB' 'FAI' 'ANC' 'PHF'\n",
      " 'GUM' 'GUC' 'BET' 'ADQ' 'SCC' 'BRW' 'KTN' 'JNU' 'SIT' 'PSG' 'OME' 'OTZ'\n",
      " 'YAK' 'CDV' 'WRG' 'ADK' 'YKM' 'SAF' 'CMI' 'DIK' 'SPN' 'ROP' 'ALW' 'EAT'\n",
      " 'PUW' 'CLL' 'HOB' 'YNG' 'DUT' 'BFF' 'ACK' 'MVY' 'BKG' 'TYR' 'SJT' 'SPS'\n",
      " 'BPT' 'LAW' 'ACT' 'FLG' 'YUM' 'MEI' 'PIB' 'ROW' 'EAR' 'CNY' 'VEL' 'LWB'\n",
      " 'SHD' 'SLN' 'LBL' 'LBF' 'PRC' 'ABI' 'MHK' 'TXK' 'LYH' 'PGV' 'HVN' 'PQI'\n",
      " 'HHH' 'GGG' 'ALO' 'SUX' 'DBQ' 'GCK' 'SBY' 'IPT' 'FLO' 'SWO' 'JLN' 'ART'\n",
      " 'CYS' 'DRT' 'LNY' 'MKK' 'JHM' 'HYA' 'DLG' 'AKN' 'GST' 'WYS']\n",
      "CRSDepTime\n",
      "[1202 1400 1037 ...  122  121  134]\n",
      "CRSElapsedTime\n",
      "[ 6.200e+01  6.000e+01  5.900e+01  8.800e+01  8.300e+01  7.600e+01\n",
      "  8.900e+01  8.700e+01  8.400e+01  8.500e+01  1.350e+02  1.290e+02\n",
      "  7.800e+01  7.900e+01  8.100e+01  1.100e+02  9.000e+01  6.600e+01\n",
      "  1.250e+02  8.000e+01  9.700e+01  1.800e+02  1.140e+02  1.130e+02\n",
      "  1.070e+02  1.020e+02  7.300e+01  1.040e+02  7.000e+01  1.190e+02\n",
      "  1.180e+02  1.570e+02  1.990e+02  1.680e+02  1.050e+02  1.220e+02\n",
      "  1.170e+02  9.400e+01  1.060e+02  1.430e+02  5.600e+01  5.500e+01\n",
      "  2.020e+02  1.150e+02  1.200e+02  9.300e+01  9.800e+01  7.400e+01\n",
      "  1.000e+02  1.240e+02  9.900e+01  9.500e+01  7.700e+01  8.600e+01\n",
      "  1.230e+02  1.210e+02  1.090e+02  6.700e+01  9.200e+01  1.010e+02\n",
      "  1.320e+02  8.200e+01  1.340e+02  1.110e+02  6.100e+01  6.800e+01\n",
      "  1.160e+02  1.270e+02  1.120e+02  1.280e+02  6.500e+01  1.480e+02\n",
      "  2.310e+02  1.030e+02  5.700e+01  1.750e+02  6.300e+01  1.690e+02\n",
      "  1.580e+02  2.050e+02  1.080e+02  1.710e+02  5.400e+01  7.500e+01\n",
      "  1.820e+02  5.800e+01  2.260e+02  2.200e+02  6.900e+01  1.400e+02\n",
      "  1.510e+02  1.260e+02  6.400e+01  7.100e+01  1.660e+02  1.590e+02\n",
      "  1.650e+02  1.620e+02  9.600e+01  9.100e+01  1.330e+02  1.360e+02\n",
      "  1.380e+02  1.450e+02  1.310e+02  7.200e+01  1.790e+02  1.950e+02\n",
      "  1.470e+02  1.410e+02  1.370e+02  1.630e+02  2.070e+02  1.880e+02\n",
      "  4.600e+01  5.200e+01  5.100e+01  4.900e+01  1.760e+02  1.670e+02\n",
      "  1.910e+02  1.420e+02  1.500e+02  1.730e+02  1.300e+02  1.520e+02\n",
      "  5.300e+01  1.740e+02  1.530e+02  1.980e+02  2.040e+02  1.900e+02\n",
      "  1.720e+02  1.460e+02  1.490e+02  1.560e+02  1.610e+02  2.080e+02\n",
      "  2.120e+02  2.140e+02  1.390e+02  1.770e+02  1.440e+02  1.890e+02\n",
      "  2.150e+02  2.090e+02  2.060e+02  1.930e+02  1.550e+02  1.940e+02\n",
      "  1.870e+02  1.600e+02  4.200e+02  3.370e+02  2.680e+02  1.960e+02\n",
      "  1.780e+02  2.220e+02  1.850e+02  4.020e+02  3.260e+02  2.160e+02\n",
      "  4.080e+02  3.210e+02  2.880e+02  3.590e+02  2.100e+02  1.840e+02\n",
      "  1.920e+02  2.470e+02  2.940e+02  2.640e+02  2.980e+02  2.530e+02\n",
      "  2.300e+02  1.640e+02  4.180e+02  3.280e+02  2.350e+02  2.420e+02\n",
      "  2.480e+02  2.240e+02  3.740e+02  2.970e+02  2.110e+02  1.810e+02\n",
      "  4.130e+02  3.220e+02  2.030e+02  3.550e+02  2.830e+02  2.890e+02\n",
      "  3.990e+02  2.900e+02  2.230e+02  3.810e+02  2.780e+02  4.000e+01\n",
      "  2.930e+02  3.730e+02  2.960e+02  2.190e+02  3.120e+02  1.700e+02\n",
      "  1.970e+02  3.100e+02  1.860e+02  3.500e+01  2.860e+02  2.330e+02\n",
      "  2.540e+02  2.620e+02  2.370e+02  2.340e+02  2.250e+02  4.100e+02\n",
      "  3.250e+02  3.890e+02  1.830e+02  3.570e+02  3.940e+02  3.870e+02\n",
      "  3.820e+02  2.380e+02  2.180e+02  2.520e+02  3.200e+02  2.710e+02\n",
      "  3.950e+02  3.160e+02  3.830e+02  3.150e+02  2.360e+02  3.310e+02\n",
      "  2.560e+02  2.000e+02  3.070e+02  2.870e+02  3.580e+02  3.470e+02\n",
      "  3.290e+02  3.500e+02  2.720e+02  3.720e+02  2.990e+02  2.210e+02\n",
      "  2.430e+02  3.700e+02  3.840e+02  3.140e+02  3.780e+02  2.740e+02\n",
      "  3.090e+02  3.930e+02  2.010e+02  4.050e+02  3.190e+02  2.670e+02\n",
      "  4.140e+02  4.100e+01  4.400e+01  3.170e+02  3.880e+02  2.490e+02\n",
      "  3.230e+02  2.270e+02  3.180e+02  3.300e+02  3.900e+02  2.580e+02\n",
      "  2.840e+02  3.670e+02  3.620e+02  4.000e+02  4.070e+02  3.860e+02\n",
      "  4.030e+02  3.480e+02  1.540e+02  5.000e+01  2.170e+02  2.410e+02\n",
      "  2.570e+02  2.810e+02  2.400e+02  2.500e+02  2.760e+02  2.130e+02\n",
      "  2.280e+02  2.460e+02  2.550e+02  2.290e+02  3.750e+02  3.400e+02\n",
      "  3.350e+02  3.050e+02  3.850e+02  3.650e+02  3.450e+02  3.800e+02\n",
      "  3.000e+02  4.250e+02  3.600e+02  2.850e+02  5.650e+02  6.900e+02\n",
      "  3.900e+01  4.500e+01  3.400e+01  3.600e+01  4.200e+01  4.800e+01\n",
      "  3.700e+01  4.300e+01  2.390e+02  3.410e+02  2.790e+02  2.650e+02\n",
      "  3.060e+02  2.750e+02  2.770e+02  4.700e+01  2.820e+02  2.600e+02\n",
      "  2.450e+02  2.320e+02  2.690e+02  2.730e+02  2.950e+02  2.610e+02\n",
      "  2.800e+02  2.510e+02  2.440e+02  2.590e+02  3.800e+01  3.300e+01\n",
      "  3.030e+02  3.640e+02  3.490e+02  3.040e+02  2.910e+02  2.630e+02\n",
      "  2.700e+02  3.020e+02  3.360e+02  3.130e+02  5.510e+02  4.690e+02\n",
      "  3.680e+02  4.210e+02  3.270e+02  3.240e+02  3.460e+02  3.520e+02\n",
      "  4.010e+02  3.970e+02  3.330e+02  3.630e+02  3.910e+02  4.280e+02\n",
      "  3.340e+02  3.920e+02  3.010e+02  3.560e+02  3.960e+02  4.220e+02\n",
      "  3.440e+02  3.760e+02  3.660e+02  3.690e+02  4.150e+02  3.380e+02\n",
      "  5.200e+02  6.200e+02  3.390e+02  3.610e+02  3.790e+02  3.080e+02\n",
      "  3.710e+02  2.660e+02  3.320e+02  3.110e+02  4.330e+02  4.160e+02\n",
      "  3.430e+02  5.550e+02  4.730e+02  2.920e+02  6.830e+02  5.780e+02\n",
      "  4.710e+02  6.460e+02  4.570e+02  3.540e+02  5.250e+02  4.500e+02\n",
      "  5.730e+02  4.830e+02  4.090e+02  5.670e+02  4.750e+02  4.110e+02\n",
      "  3.420e+02  4.040e+02  3.510e+02  3.770e+02  4.770e+02  5.710e+02\n",
      "  6.400e+02  5.480e+02  5.750e+02  4.700e+02  4.300e+02  4.800e+02\n",
      "  4.170e+02  3.980e+02  6.800e+02  3.530e+02  3.200e+01  2.400e+01\n",
      "  2.300e+01  4.120e+02  3.000e+01  4.060e+02  2.200e+01  7.020e+02\n",
      "  5.810e+02  5.640e+02  4.270e+02  7.040e+02  6.220e+02  5.860e+02\n",
      "  5.610e+02  4.310e+02  4.240e+02 -3.100e+01  5.160e+02  6.180e+02\n",
      "  4.760e+02  4.350e+02  4.190e+02  1.605e+03 -4.400e+01 -3.000e+01\n",
      " -3.200e+01  1.577e+03  1.560e+03  1.532e+03  1.528e+03  1.606e+03\n",
      " -3.700e+01  1.540e+03  1.580e+03  1.530e+03  1.541e+03 -7.900e+01\n",
      "  1.645e+03  1.623e+03  1.629e+03  1.614e+03  4.400e+02  1.520e+03\n",
      "  1.410e+03 -3.600e+01  1.542e+03 -3.500e+01  1.557e+03  1.502e+03\n",
      "  1.611e+03 -4.700e+01  1.526e+03  1.403e+03 -4.000e+01  1.508e+03\n",
      "  1.509e+03  1.567e+03  1.513e+03 -3.400e+01  1.609e+03 -4.200e+01\n",
      "  1.544e+03  1.549e+03  1.552e+03  1.512e+03  1.553e+03  1.545e+03\n",
      "  1.507e+03  1.589e+03 -8.200e+01 -9.000e+01  1.554e+03 -5.500e+01\n",
      " -4.600e+01 -4.100e+01  1.538e+03  1.522e+03 -4.300e+01  1.547e+03\n",
      "  1.562e+03 -3.800e+01  1.568e+03  2.100e+01  3.100e+01  5.270e+02\n",
      "  5.990e+02  6.720e+02  4.440e+02  5.150e+02  4.450e+02  5.570e+02\n",
      "  4.740e+02  4.540e+02  4.550e+02  4.290e+02  4.960e+02  4.580e+02\n",
      "  5.470e+02  4.850e+02  6.500e+02  5.700e+02  4.720e+02  6.150e+02\n",
      "  5.500e+02  5.390e+02  5.800e+02  6.550e+02  4.990e+02  5.690e+02\n",
      "  4.950e+02 -9.900e+01  4.880e+02  4.920e+02  4.410e+02  4.820e+02\n",
      "  5.000e+02  5.240e+02  5.970e+02  5.020e+02  4.660e+02  6.330e+02\n",
      "  5.430e+02  1.900e+01  5.900e+02  4.490e+02  5.300e+02  4.980e+02\n",
      "  5.890e+02  4.230e+02  5.050e+02  5.980e+02  4.380e+02  4.260e+02\n",
      "  4.370e+02  5.130e+02  5.120e+02  5.080e+02  5.090e+02  2.800e+01\n",
      "  6.750e+02  4.790e+02  4.780e+02  6.790e+02  6.410e+02  5.420e+02\n",
      "  4.610e+02  5.230e+02  5.210e+02  7.030e+02  5.620e+02  5.010e+02\n",
      "  5.940e+02  5.170e+02  6.140e+02  5.190e+02  5.140e+02  4.320e+02\n",
      "  6.810e+02  6.950e+02  2.600e+01  5.580e+02  5.310e+02  6.580e+02\n",
      "  5.790e+02  4.560e+02  5.520e+02  4.930e+02  6.310e+02  5.530e+02\n",
      "  5.850e+02  6.700e+02  5.630e+02  6.250e+02  5.290e+02  6.160e+02\n",
      "  2.500e+01  2.000e+01  4.650e+02  5.950e+02  6.560e+02  5.720e+02\n",
      "  4.970e+02  4.620e+02  4.600e+02  4.430e+02  5.000e+00  2.700e+01\n",
      "  1.000e+00  4.890e+02  4.900e+02  4.480e+02  4.530e+02  4.340e+02\n",
      "  4.910e+02  4.420e+02  5.340e+02  5.880e+02  4.470e+02]\n",
      "Distance\n",
      "[ 145.  302.  350. ... 1687. 3417. 1800.]\n",
      "Quarter\n",
      "[1 4 2 3]\n",
      "Month\n",
      "[ 1 10 11 12  2  3  4  5  6  7  8  9]\n",
      "DayofMonth\n",
      "[23 24 25 26 27 29 30  3  4  5  6  7  8  9 10 11 12 13 14 15 16 18 19 20\n",
      " 21 22 28 31  1  2 17]\n",
      "DayOfWeek\n",
      "[2 3 4 5 6 1 7]\n",
      "Operating_Airline\n"
     ]
    },
    {
     "name": "stdout",
     "output_type": "stream",
     "text": [
      "['9E' 'B6' 'EV' 'G4' 'HA' 'NK' 'OO' 'F9' 'WN' 'YV' 'YX' 'DL' 'UA' 'AS'\n",
      " 'QX' 'C5' 'AX' 'G7' 'ZW' '9K' 'CP' 'VX' 'KS' 'MQ' 'AA' 'OH' 'PT' 'EM']\n",
      "OriginAirportID\n",
      "[10146 10397 13422 10792 10785 11193 12953 10990 11617 13198 13277 13487\n",
      " 11278 11641 13795 15016 11203 11433 14492 14986 10185 10423 11150 11612\n",
      " 12339 11042 14108 15323 10581 12264 14321 15412 11995 10431 10781 13342\n",
      " 11066 11986 11996 10627 13930 14576 10980 11778 12451 10721 11977 15370\n",
      " 15607 11146 12266 15919 12448 10994 14574 11898 15096 13230 14683 10685\n",
      " 12951 10693 14100 10731 13931 11953 11298 13871 15304 14685 10821 13244\n",
      " 13184 12945 11057 11267 13433 11637 10868 11423 14122 11308 13296 12323\n",
      " 14783 11537 10529 13204 14524 14814 13495 12217 15249 12884 12992 11982\n",
      " 13485 10408 12206 12197 10874 11618 14635 10732 14027 11697 14869 14254\n",
      " 12478 14831 12889 12954 12892 14771 14843 12191 11292 14747 15024 14307\n",
      " 14057 14679 14570 10257 14107 13796 14262 14893 15027 10800 15070 11252\n",
      " 13933 10140 11540 12915 12177 14193 11109 12278 11049 13851 11481 13256\n",
      " 13577 10599 10208 10469 11973 14633 15624 11624 14098 10135 11003 13029\n",
      " 13367 14761 10620 11721 13486 12280 14716 15295 11775 12223 11638 11603\n",
      " 10666 14082 15008 14112 14025 14696 13832 12544 14952 14314 10466 13502\n",
      " 11823 14730 14259 15356 12265 12917 10676 14512 13829 10713 13264 12003\n",
      " 14252 11980 13476 11921 13061 14457 11648 14905 10849 12119 11027 13983\n",
      " 12173 13830 12758 12982 12402 10158 13891 10157 10561 10372 15389 11884\n",
      " 14489 15376 11413 14689 14487 11111 14908 13388 12441 11122 14698 13158\n",
      " 12389 15023 10747 12094 12397 13127 14113 10141 10333 11587 14150 10631\n",
      " 10739 10779 10918 14794 11013 11525 11097 12129 10577 13459 14520 13076\n",
      " 12343 11259 15380 12007 14711 11577 12335 11337 13232 12156 15041 10434\n",
      " 13377 11076 11471 11865 14543 14288 13344 10967 15454 11447 12519 12888\n",
      " 12255 14006 11503 13964 10279 12391 13303 14222 12898 11140 12896 13360\n",
      " 10299 11630 12016 12012 10170 10551 14709 10754 12523 12819 14828 13873\n",
      " 13970 15991 10926 15841 14256 10165 14674 11315 11067 14955 14582 14303\n",
      " 11470 10275 16101 16133 11445 10558 10154 13541 10643 15411 14842 10728\n",
      " 15074 12891 10155 11695 16218 14588 13241 14109 12899 13121 14802 11468\n",
      " 14877 15582 11092 12902 14237 13290 10136 11867 14092 12244 13139 14231\n",
      " 12124 11905 15048 15401 11274 14704 11699 12365 10361 10268 14960 12511\n",
      " 11233 11415 13034 13347 12492 12250 11997 10245 11336 15897]\n",
      "OriginCityMarketID\n",
      "[30146 30397 30562 30792 30785 33105 31703 30990 31617 33198 33277 31650\n",
      " 30852 31641 33795 31123 30424 31295 34492 34986 30185 30423 31150 31612\n",
      " 32337 30647 34108 35323 30581 34321 35412 31995 30431 30781 33342 31066\n",
      " 31986 31871 30627 30977 34576 30980 31778 31136 30721 31977 34653 35550\n",
      " 31146 31453 31834 32448 30994 34574 31898 35096 32070 33214 30685 32951\n",
      " 30693 34100 30731 33667 31953 30194 33316 33195 34685 33244 33184 32945\n",
      " 31057 31267 33304 31637 30868 31423 30198 31308 32323 34783 31537 30529\n",
      " 31454 34524 30476 33495 30255 35249 32884 32600 31982 33485 30408 32206\n",
      " 31714 30732 34027 32467 34614 34254 32457 32211 32575 34819 30325 30559\n",
      " 34945 34057 33570 34570 30257 30466 34262 33192 34992 31252 33933 30140\n",
      " 30615 31205 32177 33728 30189 30928 31049 33851 31481 33256 31135 30599\n",
      " 30208 30469 31973 32547 31504 31624 30135 31003 33029 33367 34761 30620\n",
      " 31721 33486 32280 34716 35165 31775 32223 31638 31603 30666 34082 32556\n",
      " 34025 34696 33832 32544 34952 34314 33502 31823 33044 34259 35356 32265\n",
      " 30676 34512 32131 30713 33264 31895 34252 31980 34922 31921 33038 34457\n",
      " 31648 34905 30849 32119 31027 33983 32134 33830 32758 32982 32402 30158\n",
      " 30157 30561 30372 35389 31884 34489 30436 30285 34689 33792 32474 33388\n",
      " 32441 31122 34236 33158 32389 34433 30747 34699 32397 33127 34113 30141\n",
      " 30333 31587 34150 30631 30739 30779 30918 34794 31013 31525 31097 32129\n",
      " 30577 33459 34520 33076 32343 35380 30894 34711 31577 32335 31337 32156\n",
      " 35041 30434 33377 31076 31471 31865 34543 34288 33344 30967 35454 31447\n",
      " 32519 32888 32255 34006 31503 33964 30279 34222 32898 31140 32896 33360\n",
      " 30299 31517 32016 32012 30070 30113 30073 30107 32523 31401 34828 33873\n",
      " 33970 35991 30913 35841 34256 30165 34674 31315 31067 34955 34582 34303\n",
      " 31470 30275 36101 36133 31445 30558 30154 33541 30643 35411 34842 30728\n",
      " 35074 32891 30155 31695 33785 34588 33241 34109 32899 33121 34802 31468\n",
      " 34877 35582 31092 32902 34237 33290 30136 31867 34092 32244 33139 34231\n",
      " 32124 31905 35048 35401 31274 34704 31699 32365 30361 30268 34960 32511\n",
      " 31233 31335 33034 33347 32492 32250 31997 30245 31336 35897]\n",
      "OriginStateFips\n",
      "[13  1 36 50 21 51 37 29 27 55 26 12 22 48 18 39 17 47 23 45 38  5 25 40\n",
      " 54 28 42 31 24 19 33  9 34 72 49  6 32  8 53 78 44 41  4 35 20 30 16 46\n",
      " 15 56 75  2]\n",
      "OriginWac\n",
      "[34 51 22 16 52 38 36 64 63 45 43 33 72 74 42 44 41 54 12 37 66 71 13 73\n",
      " 39 53 23 65 35 61 14 11 21  3 87 91 85 82 93  4 15 92 81 86 62 84 83 67\n",
      "  2 88  5  1]\n",
      "DestAirportID\n",
      "[10397 10146 13422 11612 11433 13795 10721 15096 11617 13277 12953 13487\n",
      " 11042 11641 12478 15016 11066 12339 15412 11203 10185 11982 14683 14108\n",
      " 12266 11298 14524 14321 10469 11193 15323 12264 10431 10781 10792 11986\n",
      " 10627 10980 15380 11778 10785 13198 11977 15607 11146 15919 14576 14574\n",
      " 13230 13495 10693 14492 13342 11953 15304 11995 10990 10581 11898 10731\n",
      " 13244 12323 10685 13931 13296 11267 11057 11996 12945 14730 10529 13184\n",
      " 13433 10868 11150 11423 11308 11537 14122 12451 11278 13930 14783 14814\n",
      " 12217 13871 15249 13485 12884 10821 10994 12992 14635 13204 10408 10874\n",
      " 12206 14685 11637 12197 14100 13367 10732 14771 11618 11697 14869 14254\n",
      " 14831 12954 12889 12892 14027 14843 14986 10423 15070 11292 14747 12191\n",
      " 14307 14893 15024 14057 14679 14570 10257 14107 13796 14262 15027 10800\n",
      " 11252 13933 10140 10747 11540 13851 11973 14696 13256 12915 12951 13577\n",
      " 14633 13029 10599 15370 10208 12448 11003 11481 15624 11624 10135 14761\n",
      " 10620 11721 13486 12280 14716 15295 11775 12223 11638 11603 10666 14082\n",
      " 15008 14112 14025 13832 12544 14952 10466 13502 11823 14259 15356 12265\n",
      " 12917 10676 14512 13829 10713 13264 12003 14252 14314 12278 11980 13476\n",
      " 11921 13061 14457 11648 14905 10849 12119 11027 11109 13983 12173 13830\n",
      " 12758 12982 12402 11111 11122 10434 15376 14489 14689 10372 13891 12156\n",
      " 11413 12389 10157 14698 13388 11884 12441 15023 14908 14487 10561 12094\n",
      " 13158 12397 13127 14113 10141 11097 10333 11587 14150 10631 10739 10779\n",
      " 10918 14794 11013 13459 11525 12129 10577 15389 14520 12343 15041 12335\n",
      " 11259 12007 13377 14711 11577 13076 11337 13232 13344 14288 11076 14006\n",
      " 15454 14543 12519 11447 12888 11865 11471 12255 11503 10967 13964 10279\n",
      " 13303 12391 14222 10158 12898 12896 14193 11140 13360 11630 10299 14098\n",
      " 12016 12012 10551 10170 14709 10754 12819 12523 14828 14256 13873 13970\n",
      " 15991 10926 15841 10165 16101 14674 11067 11315 14955 14582 10275 11470\n",
      " 14303 11049 12177 16133 11445 10558 10154 13541 10643 15411 14842 14960\n",
      " 10728 12891 10155 11695 16218 13241 14109 14588 11468 11092 15582 13121\n",
      " 14802 14877 12902 12899 14237 10136 13290 15401 13139 14092 12244 14231\n",
      " 12124 11905 10268 15048 11274 11867 14704 12365 11699 15074 12511 10361\n",
      " 11233 11415 13034 13347 12492 12250 11336 10245 11997 15897]\n",
      "DestCityMarketID\n",
      "[30397 30146 30562 31612 31295 33795 30721 35096 31617 33277 31703 31650\n",
      " 30647 31641 31123 31066 32337 35412 30424 30185 31982 33214 34108 31453\n",
      " 30194 34524 34321 30469 33105 35323 30852 30431 30781 30792 31986 30627\n",
      " 30980 35380 31778 30785 33198 31977 35550 31146 31834 34576 34574 32070\n",
      " 33495 30693 34492 33342 31953 33195 31995 30990 30581 31898 30731 33244\n",
      " 32323 30685 33667 31267 31057 31871 32945 33044 30529 33184 33304 30868\n",
      " 31150 31423 31308 31537 30198 31136 30977 34783 30476 30255 33316 35249\n",
      " 33485 32884 30994 32600 31714 31454 30408 32206 34685 31637 34100 33367\n",
      " 30732 32457 32467 34614 34254 32575 32211 34027 34819 34986 30423 30325\n",
      " 30559 33192 34945 34057 33570 34570 30257 30466 34262 34992 31252 33933\n",
      " 30140 30747 30615 33851 31973 34696 33256 31205 32951 31135 32547 33029\n",
      " 30599 34653 30208 32448 31003 31481 31504 31624 30135 34761 30620 31721\n",
      " 33486 32280 34716 35165 31775 32223 31638 31603 30666 34082 32556 34025\n",
      " 33832 32544 34952 33502 31823 34259 35356 32265 30676 34512 32131 30713\n",
      " 33264 31895 34252 34314 30928 31980 34922 31921 33038 34457 31648 34905\n",
      " 30849 32119 31027 30189 33983 32134 33830 32758 32982 32402 32474 31122\n",
      " 30434 30436 34489 34689 30372 32156 30285 32389 30157 34236 33388 31884\n",
      " 32441 34433 33792 30561 34699 33158 32397 33127 34113 30141 31097 30333\n",
      " 31587 34150 30631 30739 30779 30918 34794 31013 33459 31525 32129 30577\n",
      " 35389 34520 32343 35041 32335 30894 33377 34711 31577 33076 31337 33344\n",
      " 34288 31076 34006 35454 34543 32519 31447 32888 31865 31471 32255 31503\n",
      " 30967 33964 30279 34222 30158 32898 32896 33728 31140 33360 31517 30299\n",
      " 32016 32012 30113 30070 30073 30107 31401 32523 34828 34256 33873 33970\n",
      " 35991 30913 35841 30165 36101 34674 31067 31315 34955 34582 30275 31470\n",
      " 34303 31049 32177 36133 31445 30558 30154 33541 30643 35411 34842 34960\n",
      " 30728 32891 30155 31695 33785 33241 34109 34588 31468 31092 35582 33121\n",
      " 34802 34877 32902 32899 34237 30136 33290 35401 33139 34092 32244 34231\n",
      " 32124 31905 30268 35048 31274 31867 34704 32365 31699 35074 32511 30361\n",
      " 31233 31335 33034 33347 32492 32250 31336 30245 31997 35897]\n",
      "DestStateFips\n",
      "[13  1 18 26 37 25 36 27 39 29 47 55 22 48 17 51 23 21 38  5 50 54 42 12\n",
      " 33 45  9 19 31 24 72  6 34 49 32  8 53 44 78 41  4 35 40 28 30 16 46 20\n",
      " 15 56 75  2]\n",
      "DestWac\n",
      "[34 51 42 43 36 13 22 63 44 64 54 45 72 74 41 38 12 52 66 71 16 39 23 33\n",
      " 14 37 11 61 65 35  3 91 21 87 85 82 93 15  4 92 81 86 73 53 84 83 67 62\n",
      "  2 88  5  1]\n",
      "DepDel15\n",
      "[0. 1.]\n"
     ]
    }
   ],
   "source": [
    "%%git_commit\n",
    "\n",
    "for col in training:\n",
    "    print(col)\n",
    "    print(training[col].unique())"
   ]
  },
  {
   "cell_type": "code",
   "execution_count": 15,
   "metadata": {},
   "outputs": [],
   "source": [
    "%%git_commit\n",
    "\n",
    "one_hot = ['DestWac', 'DestStateFips', 'DestCityMarketID', 'DestAirportID', 'OriginWac', 'OriginStateFips', 'OriginCityMarketID', 'OriginAirportID', 'Operating_Airline', 'DayOfWeek', 'Month', 'Quarter', 'Dest', 'Origin', 'Airline' ]"
   ]
  },
  {
   "cell_type": "code",
   "execution_count": 16,
   "metadata": {},
   "outputs": [],
   "source": [
    "%%git_commit\n",
    "\n",
    "from sklearn.preprocessing import OneHotEncoder\n",
    "\n"
   ]
  },
  {
   "cell_type": "code",
   "execution_count": 17,
   "metadata": {},
   "outputs": [
    {
     "name": "stdout",
     "output_type": "stream",
     "text": [
      "DestWac\n",
      "(5578618, 52)\n",
      "DestStateFips\n",
      "(5578618, 52)\n",
      "DestCityMarketID\n",
      "(5578618, 346)\n",
      "DestAirportID\n",
      "(5578618, 370)\n",
      "OriginWac\n",
      "(5578618, 52)\n",
      "OriginStateFips\n",
      "(5578618, 52)\n",
      "OriginCityMarketID\n",
      "(5578618, 346)\n",
      "OriginAirportID\n",
      "(5578618, 370)\n",
      "Operating_Airline\n",
      "(5578618, 28)\n",
      "DayOfWeek\n",
      "(5578618, 7)\n",
      "Month\n",
      "(5578618, 12)\n",
      "Quarter\n",
      "(5578618, 4)\n",
      "Dest\n",
      "(5578618, 370)\n",
      "Origin\n",
      "(5578618, 370)\n",
      "Airline\n",
      "(5578618, 28)\n"
     ]
    }
   ],
   "source": [
    "%%git_commit\n",
    "\n",
    "encode = OneHotEncoder(handle_unknown = 'ignore')\n",
    "\n",
    "array = []\n",
    "array_test = []\n",
    "for hot in one_hot:\n",
    "    print(hot)\n",
    "    x = encode.fit_transform(training[hot].to_numpy().reshape(-1, 1))\n",
    "    y = encode.transform(testing[hot].to_numpy().reshape(-1, 1))\n",
    "    print(x.shape)\n",
    "    array.append(x)\n",
    "    array_test.append(y)\n"
   ]
  },
  {
   "cell_type": "code",
   "execution_count": 18,
   "metadata": {},
   "outputs": [
    {
     "name": "stdout",
     "output_type": "stream",
     "text": [
      "['CRSDepTime', 'CRSElapsedTime', 'Distance', 'DayofMonth', 'DepDel15']\n"
     ]
    }
   ],
   "source": [
    "%%git_commit\n",
    "\n",
    "not_hot = []\n",
    "for key in training.keys():\n",
    "    if key not in one_hot:\n",
    "        not_hot.append(key)\n",
    "        \n",
    "print(not_hot)"
   ]
  },
  {
   "cell_type": "code",
   "execution_count": 19,
   "metadata": {},
   "outputs": [
    {
     "name": "stdout",
     "output_type": "stream",
     "text": [
      "(5578618, 52)\n",
      "(5578618, 52)\n",
      "(5578618, 346)\n",
      "(5578618, 370)\n",
      "(5578618, 52)\n",
      "(5578618, 52)\n",
      "(5578618, 346)\n",
      "(5578618, 370)\n",
      "(5578618, 28)\n",
      "(5578618, 7)\n",
      "(5578618, 12)\n",
      "(5578618, 4)\n",
      "(5578618, 370)\n",
      "(5578618, 370)\n",
      "(5578618, 28)\n"
     ]
    }
   ],
   "source": [
    "%%git_commit\n",
    "\n",
    "for i in range(len(array)):\n",
    "    print(array[i].shape)\n",
    "\n"
   ]
  },
  {
   "cell_type": "code",
   "execution_count": 20,
   "metadata": {},
   "outputs": [],
   "source": [
    "%%git_commit\n",
    "\n",
    "from scipy.sparse import hstack\n",
    "\n"
   ]
  },
  {
   "cell_type": "code",
   "execution_count": 21,
   "metadata": {},
   "outputs": [],
   "source": [
    "%%git_commit\n",
    "\n",
    "col_2 = ['CRSDepTime', 'CRSElapsedTime', 'Distance', 'DayofMonth']\n",
    "\n",
    "for col in col_2:\n",
    "    x = training[col].to_numpy().reshape(-1, 1)\n",
    "    y = testing[col].to_numpy().reshape(-1, 1)\n",
    "    array.append(x)\n",
    "    array_test.append(y)"
   ]
  },
  {
   "cell_type": "code",
   "execution_count": 22,
   "metadata": {},
   "outputs": [],
   "source": [
    "%%git_commit\n",
    "\n",
    "X_train = hstack(array)\n",
    "X_test = hstack(array_test)"
   ]
  },
  {
   "cell_type": "code",
   "execution_count": 23,
   "metadata": {},
   "outputs": [],
   "source": [
    "%%git_commit\n",
    "\n",
    "y_train = training['DepDel15'].to_numpy().reshape(-1)\n",
    "y_test = testing['DepDel15'].to_numpy().reshape(-1)\n"
   ]
  },
  {
   "cell_type": "code",
   "execution_count": 24,
   "metadata": {},
   "outputs": [
    {
     "name": "stdout",
     "output_type": "stream",
     "text": [
      "(5578618, 2463)\n",
      "(7917263, 2463)\n",
      "(5578618,)\n",
      "(7917263,)\n"
     ]
    }
   ],
   "source": [
    "%%git_commit\n",
    "\n",
    "print(X_train.shape)\n",
    "print(X_test.shape)\n",
    "print(y_train.shape)\n",
    "print(y_test.shape)"
   ]
  },
  {
   "cell_type": "code",
   "execution_count": 25,
   "metadata": {},
   "outputs": [],
   "source": [
    "%%git_commit\n",
    "\n",
    "from sklearn.ensemble import RandomForestClassifier\n",
    "from sklearn.metrics import confusion_matrix\n",
    "from sklearn.metrics import ConfusionMatrixDisplay\n",
    "import matplotlib.pyplot as plt\n"
   ]
  },
  {
   "cell_type": "code",
   "execution_count": 32,
   "metadata": {},
   "outputs": [
    {
     "data": {
      "text/plain": [
       "RandomForestClassifier(max_samples=0.01, min_samples_leaf=100)"
      ]
     },
     "execution_count": 32,
     "metadata": {},
     "output_type": "execute_result"
    }
   ],
   "source": [
    "%%git_commit\n",
    "\n",
    "\n",
    "model = RandomForestClassifier(max_samples = 0.01, min_samples_leaf = 100)\n",
    "model.fit(X_train, y_train)"
   ]
  },
  {
   "cell_type": "code",
   "execution_count": 33,
   "metadata": {},
   "outputs": [],
   "source": [
    "%%git_commit\n",
    "\n",
    "y_out = model.predict(X_test)\n",
    "\n"
   ]
  },
  {
   "cell_type": "code",
   "execution_count": 34,
   "metadata": {},
   "outputs": [
    {
     "data": {
      "image/png": "[encoded data removed]",
      "text/plain": [
       "<Figure size 432x288 with 2 Axes>"
      ]
     },
     "metadata": {
      "needs_background": "light"
     },
     "output_type": "display_data"
    }
   ],
   "source": [
    "%%git_commit\n",
    "\n",
    "\n",
    "y_out = model.predict(X_test)\n",
    "matrix = confusion_matrix(y_test, y_out)\n",
    "display = ConfusionMatrixDisplay(matrix)\n",
    "display.plot()\n",
    "plt.show()"
   ]
  },
  {
   "cell_type": "markdown",
   "metadata": {},
   "source": [
    "# Evaluate Arrival Delay\n",
    "\n"
   ]
  },
  {
   "cell_type": "markdown",
   "metadata": {},
   "source": [
    "TODOS\n",
    "- Define Subset of features\n",
    "- For each feature, convert to appropriate value\n",
    "- Test time series prediction, normal prediction\n"
   ]
  },
  {
   "cell_type": "code",
   "execution_count": null,
   "metadata": {},
   "outputs": [],
   "source": [
    "%%git_commit\n",
    "\n",
    "training = pd.read_csv('../archive/Combined_Flights_2018.csv').sample(100000)\n",
    "testing = pd.read_csv('../archive/Combined_Flights_2019.csv').sample(100000)\n"
   ]
  },
  {
   "cell_type": "code",
   "execution_count": null,
   "metadata": {},
   "outputs": [],
   "source": [
    "%%git_commit\n",
    "\n",
    "\n",
    "training = training.dropna()\n",
    "testing = testing.dropna()\n"
   ]
  },
  {
   "cell_type": "code",
   "execution_count": null,
   "metadata": {},
   "outputs": [],
   "source": [
    "%%git_commit\n",
    "\n",
    "\n",
    "dropped_column = ['ArrDel15', 'Flight_Number_Marketing_Airline', 'Flight_Number_Operating_Airline', 'DepDelay', 'ArrTime', 'AirTime', 'ActualElapsedTime', 'DepartureDelayGroups', 'DepTimeBlk', 'TaxiOut', 'WheelsOff', 'WheelsOn', 'TaxiIn', 'ArrDelay', 'ArrivalDelayGroups', 'ArrTimeBlk', 'DistanceGroup', 'DivAirportLandings']\n",
    "\n",
    "\n"
   ]
  },
  {
   "cell_type": "code",
   "execution_count": null,
   "metadata": {},
   "outputs": [],
   "source": [
    "%%git_commit\n",
    "\n",
    "for column in dropped_column:\n",
    "    training = training.drop(column, axis = 1)\n",
    "    testing = testing.drop(column, axis = 1)\n",
    "    \n",
    "    "
   ]
  },
  {
   "cell_type": "code",
   "execution_count": null,
   "metadata": {},
   "outputs": [],
   "source": [
    "%%git_commit\n",
    "\n",
    "training.keys()\n"
   ]
  },
  {
   "cell_type": "code",
   "execution_count": null,
   "metadata": {},
   "outputs": [],
   "source": [
    "%%git_commit\n",
    "\n",
    "d2_column = ['FlightDate', 'Marketing_Airline_Network', 'Operated_or_Branded_Code_Share_Partners' ,  'DOT_ID_Marketing_Airline', 'IATA_Code_Marketing_Airline', 'DOT_ID_Operating_Airline', 'IATA_Code_Operating_Airline', 'OriginAirportSeqID', 'DestAirportSeqID', 'CRSArrTime', 'DestStateName', 'DestState', 'DestCityName', 'OriginStateName', 'OriginState', 'OriginCityName','Year',  'Diverted', 'Cancelled', 'Tail_Number']\n"
   ]
  },
  {
   "cell_type": "code",
   "execution_count": null,
   "metadata": {},
   "outputs": [],
   "source": [
    "%%git_commit\n",
    "\n",
    "for column in d2_column:\n",
    "    training = training.drop(column, axis = 1)\n",
    "    testing = testing.drop(column, axis = 1)\n"
   ]
  },
  {
   "cell_type": "code",
   "execution_count": null,
   "metadata": {},
   "outputs": [],
   "source": [
    "%%git_commit\n",
    "\n",
    "testing.keys()\n"
   ]
  },
  {
   "cell_type": "code",
   "execution_count": null,
   "metadata": {},
   "outputs": [],
   "source": [
    "%%git_commit\n",
    "\n",
    "from sklearn.preprocessing import OneHotEncoder\n",
    "\n",
    "encode = OneHotEncoder(handle_unknown = 'ignore')\n",
    "\n",
    "one_hot = ['DestWac', 'DestStateFips', 'DestCityMarketID', 'DestAirportID', 'OriginWac', 'OriginStateFips', 'OriginCityMarketID', 'OriginAirportID', 'Operating_Airline', 'DayOfWeek', 'Month', 'Quarter', 'Dest', 'Origin', 'Airline' ]\n",
    "\n",
    "array = []\n",
    "array_test = []\n",
    "for hot in one_hot:\n",
    "    print(hot)\n",
    "    x = encode.fit_transform(training[hot].to_numpy().reshape(-1, 1))\n",
    "    y = encode.transform(testing[hot].to_numpy().reshape(-1, 1))\n",
    "    print(x.shape)\n",
    "    array.append(x)\n",
    "    array_test.append(y)\n"
   ]
  },
  {
   "cell_type": "code",
   "execution_count": null,
   "metadata": {},
   "outputs": [],
   "source": [
    "%%git_commit\n",
    "\n",
    "not_hot = []\n",
    "for key in training.keys():\n",
    "    if key not in one_hot:\n",
    "        not_hot.append(key)\n",
    "        \n",
    "print(not_hot)\n"
   ]
  },
  {
   "cell_type": "code",
   "execution_count": null,
   "metadata": {},
   "outputs": [],
   "source": [
    "%%git_commit\n",
    "\n",
    "from scipy.sparse import hstack\n"
   ]
  },
  {
   "cell_type": "code",
   "execution_count": null,
   "metadata": {},
   "outputs": [],
   "source": [
    "%%git_commit\n",
    "\n",
    "\n",
    "#col_2 = ['CRSDepTime', 'DepTime', 'DepDelayMinutes', 'CRSElapsedTime', 'Distance', 'DayofMonth', 'DepDel15']\n",
    "\n",
    "col_2 = ['CRSDepTime', 'DepTime', 'CRSElapsedTime', 'Distance', 'DayofMonth']\n",
    "\n",
    "for col in col_2:\n",
    "    x = training[col].to_numpy().reshape(-1, 1)\n",
    "    y = testing[col].to_numpy().reshape(-1, 1)\n",
    "    array.append(x)\n",
    "    array_test.append(y)\n",
    "    "
   ]
  },
  {
   "cell_type": "code",
   "execution_count": null,
   "metadata": {},
   "outputs": [],
   "source": [
    "%%git_commit\n",
    "\n",
    "X_train = hstack(array)\n",
    "X_test = hstack(array_test)\n"
   ]
  },
  {
   "cell_type": "code",
   "execution_count": null,
   "metadata": {},
   "outputs": [],
   "source": [
    "%%git_commit\n",
    "\n",
    "y_train = training['ArrDelayMinutes'].to_numpy().reshape(-1)\n",
    "y_test = testing['ArrDelayMinutes'].to_numpy().reshape(-1)\n"
   ]
  },
  {
   "cell_type": "code",
   "execution_count": null,
   "metadata": {},
   "outputs": [],
   "source": [
    "%%git_commit\n",
    "\n",
    "print(X_train.shape)\n",
    "print(X_test.shape)\n",
    "print(y_train.shape)\n",
    "print(y_test.shape)\n"
   ]
  },
  {
   "cell_type": "code",
   "execution_count": null,
   "metadata": {},
   "outputs": [],
   "source": [
    "%%git_commit\n",
    "\n",
    "y_test[y_test > 500] = 500\n",
    "y_train[y_train > 500] = 500"
   ]
  },
  {
   "cell_type": "code",
   "execution_count": null,
   "metadata": {},
   "outputs": [],
   "source": [
    "%%git_commit\n",
    "import matplotlib.pyplot as plt\n",
    "plt.hist(y_test, bins=9)\n"
   ]
  },
  {
   "cell_type": "code",
   "execution_count": null,
   "metadata": {},
   "outputs": [],
   "source": [
    "%%git_commit\n",
    "\n",
    "# REGRESSION TEST\n",
    "\n",
    "from sklearn.ensemble import RandomForestRegressor\n",
    "from sklearn.metrics import explained_variance_score\n",
    "from sklearn.linear_model import LinearRegression\n"
   ]
  },
  {
   "cell_type": "code",
   "execution_count": null,
   "metadata": {},
   "outputs": [],
   "source": [
    "%%git_commit\n",
    "\n",
    "#model = RandomForestRegressor(max_samples = 0.01, min_samples_leaf = 100)\n",
    "model = LinearRegression()\n",
    "model.fit(X_train, y_train)"
   ]
  },
  {
   "cell_type": "code",
   "execution_count": null,
   "metadata": {},
   "outputs": [],
   "source": [
    "%%git_commit\n",
    "\n",
    "y_out = model.predict(X_test)\n",
    "print(explained_variance_score(y_test, y_out))"
   ]
  },
  {
   "cell_type": "code",
   "execution_count": null,
   "metadata": {},
   "outputs": [],
   "source": [
    "%%git_commit\n",
    "print(np.sum(y_out))"
   ]
  },
  {
   "cell_type": "code",
   "execution_count": 89,
   "metadata": {},
   "outputs": [
    {
     "data": {
      "text/plain": [
       "RandomForestClassifier(max_samples=0.01, min_samples_leaf=100)"
      ]
     },
     "execution_count": 89,
     "metadata": {},
     "output_type": "execute_result"
    }
   ],
   "source": [
    "%%git_commit\n",
    "\n",
    "\n",
    "model = RandomForestClassifier(max_samples = 0.01, min_samples_leaf = 100)\n",
    "model.fit(X_train, y_train)\n"
   ]
  },
  {
   "cell_type": "code",
   "execution_count": 90,
   "metadata": {},
   "outputs": [
    {
     "data": {
      "image/png": "[encoded data removed]",
      "text/plain": [
       "<Figure size 432x288 with 2 Axes>"
      ]
     },
     "metadata": {
      "needs_background": "light"
     },
     "output_type": "display_data"
    }
   ],
   "source": [
    "%%git_commit\n",
    "\n",
    "y_out = model.predict(X_test)\n",
    "matrix = confusion_matrix(y_test, y_out)\n",
    "display = ConfusionMatrixDisplay(matrix)\n",
    "display.plot()\n",
    "plt.show()\n"
   ]
  },
  {
   "cell_type": "code",
   "execution_count": 91,
   "metadata": {},
   "outputs": [
    {
     "name": "stdout",
     "output_type": "stream",
     "text": [
      "0.8070729745873038\n"
     ]
    }
   ],
   "source": [
    "%%git_commit\n",
    "\n",
    "from sklearn.metrics import accuracy_score\n",
    "\n",
    "print(accuracy_score(y_test, y_out))\n"
   ]
  },
  {
   "cell_type": "code",
   "execution_count": null,
   "metadata": {},
   "outputs": [],
   "source": [
    "%%git_commit\n"
   ]
  }
 ],
 "metadata": {
  "kernelspec": {
   "display_name": "Python 3",
   "language": "python",
   "name": "python3"
  },
  "language_info": {
   "codemirror_mode": {
    "name": "ipython",
    "version": 3
   },
   "file_extension": ".py",
   "mimetype": "text/x-python",
   "name": "python",
   "nbconvert_exporter": "python",
   "pygments_lexer": "ipython3",
   "version": "3.8.5"
  },
  "vscode": {
   "interpreter": {
    "hash": "31f2aee4e71d21fbe5cf8b01ff0e069b9275f58929596ceb00d14d90e3e16cd6"
   }
  }
 },
 "nbformat": 4,
 "nbformat_minor": 4
}
