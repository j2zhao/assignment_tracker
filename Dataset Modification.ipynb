{
 "cells": [
  {
   "cell_type": "code",
   "execution_count": 82,
   "metadata": {},
   "outputs": [
    {
     "name": "stdout",
     "output_type": "stream",
     "text": [
      "The jupyter_record extension is already loaded. To reload it, use:\n",
      "  %reload_ext jupyter_record\n"
     ]
    }
   ],
   "source": [
    "# do not touch this cell \n",
    "%load_ext jupyter_record\n"
   ]
  },
  {
   "cell_type": "code",
   "execution_count": 3,
   "metadata": {},
   "outputs": [],
   "source": [
    "%%git_commit\n",
    "\n",
    "import pandas as pd\n",
    "import numpy as np"
   ]
  },
  {
   "cell_type": "code",
   "execution_count": null,
   "metadata": {},
   "outputs": [],
   "source": [
    "%%git_commit\n",
    "dataset.keys()"
   ]
  },
  {
   "cell_type": "code",
   "execution_count": null,
   "metadata": {},
   "outputs": [],
   "source": [
    "%%git_commit\n",
    "\n",
    "dropped_column = ['DepTime', 'DepDelay', 'ArrTime', 'ArrDelayMinutes', 'AirTime', 'ActualElapsedTime', 'DepDel15', 'DepartureDelayGroups', 'DepTimeBlk', 'TaxiOut', 'WheelsOff', 'WheelsOn', 'TaxiIn', 'ArrDelay', 'ArrDel15', 'ArrivalDelayGroups', 'ArrTimeBlk', 'DistanceGroup', 'DivAirportLandings']"
   ]
  },
  {
   "cell_type": "code",
   "execution_count": null,
   "metadata": {},
   "outputs": [],
   "source": [
    "%%git_commit\n",
    "\n",
    "for column in dropped_column:\n",
    "    dataset = dataset.drop(column, axis = 1)\n",
    "    "
   ]
  },
  {
   "cell_type": "code",
   "execution_count": null,
   "metadata": {},
   "outputs": [],
   "source": [
    "%%git_commit\n",
    "df = dataset.dropna()"
   ]
  },
  {
   "cell_type": "markdown",
   "metadata": {},
   "source": [
    "# Evaluate Departure Delay \n"
   ]
  },
  {
   "cell_type": "markdown",
   "metadata": {},
   "source": [
    "TODOS\n",
    "- Define Subset of features\n",
    "- For each feature, convert to appropriate value\n",
    "- Test time series prediction, normal prediction\n"
   ]
  },
  {
   "cell_type": "code",
   "execution_count": null,
   "metadata": {},
   "outputs": [],
   "source": [
    "%%git_commit\n",
    "\n",
    "training = pd.read_csv('../archive/Combined_Flights_2018.csv')\n",
    "testing = pd.read_csv('../archive/Combined_Flights_2019.csv')\n"
   ]
  },
  {
   "cell_type": "code",
   "execution_count": null,
   "metadata": {},
   "outputs": [],
   "source": [
    "%%git_commit\n",
    "\n",
    "testing\n"
   ]
  },
  {
   "cell_type": "code",
   "execution_count": null,
   "metadata": {},
   "outputs": [],
   "source": [
    "%%git_commit\n",
    "training"
   ]
  },
  {
   "cell_type": "code",
   "execution_count": null,
   "metadata": {},
   "outputs": [],
   "source": [
    "%%git_commit\n",
    "\n",
    "training = training.dropna()\n",
    "testing = testing.dropna()"
   ]
  },
  {
   "cell_type": "code",
   "execution_count": null,
   "metadata": {},
   "outputs": [],
   "source": [
    "%%git_commit\n",
    "\n",
    "dropped_column = ['Flight_Number_Marketing_Airline', 'Flight_Number_Operating_Airline', 'DepTime', 'DepDelay', 'ArrTime', 'ArrDelayMinutes', 'AirTime', 'ActualElapsedTime', 'DepDelayMinutes', 'DepartureDelayGroups', 'DepTimeBlk', 'TaxiOut', 'WheelsOff', 'WheelsOn', 'TaxiIn', 'ArrDelay', 'ArrDel15', 'ArrivalDelayGroups', 'ArrTimeBlk', 'DistanceGroup', 'DivAirportLandings']\n",
    "\n",
    "\n"
   ]
  },
  {
   "cell_type": "code",
   "execution_count": null,
   "metadata": {},
   "outputs": [],
   "source": [
    "%%git_commit\n",
    "\n",
    "for column in dropped_column:\n",
    "    training = training.drop(column, axis = 1)\n",
    "    testing = testing.drop(column, axis = 1)\n",
    "    "
   ]
  },
  {
   "cell_type": "code",
   "execution_count": null,
   "metadata": {},
   "outputs": [],
   "source": [
    "%%git_commit\n",
    "\n",
    "training.keys()\n"
   ]
  },
  {
   "cell_type": "code",
   "execution_count": null,
   "metadata": {},
   "outputs": [],
   "source": [
    "%%git_commit\n",
    "\n",
    "d2_column = ['FlightDate', 'Marketing_Airline_Network', 'Operated_or_Branded_Code_Share_Partners' ,  'DOT_ID_Marketing_Airline', 'IATA_Code_Marketing_Airline', 'DOT_ID_Operating_Airline', 'IATA_Code_Operating_Airline', 'OriginAirportSeqID', 'DestAirportSeqID', 'CRSArrTime', 'DestStateName', 'DestState', 'DestCityName', 'OriginStateName', 'OriginState', 'OriginCityName','Year',  'Diverted', 'Cancelled', 'Tail_Number']\n",
    "\n",
    "\n"
   ]
  },
  {
   "cell_type": "code",
   "execution_count": null,
   "metadata": {},
   "outputs": [],
   "source": [
    "%%git_commit\n",
    "\n",
    "for column in d2_column:\n",
    "    training = training.drop(column, axis = 1)\n",
    "    testing = testing.drop(column, axis = 1)"
   ]
  },
  {
   "cell_type": "code",
   "execution_count": null,
   "metadata": {},
   "outputs": [],
   "source": [
    "%%git_commit\n",
    "\n",
    "testing.keys()"
   ]
  },
  {
   "cell_type": "code",
   "execution_count": null,
   "metadata": {},
   "outputs": [],
   "source": [
    "%%git_commit\n",
    "\n",
    "for col in training:\n",
    "    print(col)\n",
    "    print(training[col].unique())"
   ]
  },
  {
   "cell_type": "code",
   "execution_count": null,
   "metadata": {},
   "outputs": [],
   "source": [
    "%%git_commit\n",
    "\n",
    "one_hot = ['DestWac', 'DestStateFips', 'DestCityMarketID', 'DestAirportID', 'OriginWac', 'OriginStateFips', 'OriginCityMarketID', 'OriginAirportID', 'Operating_Airline', 'DayOfWeek', 'Month', 'Quarter', 'Dest', 'Origin', 'Airline' ]"
   ]
  },
  {
   "cell_type": "code",
   "execution_count": null,
   "metadata": {},
   "outputs": [],
   "source": [
    "%%git_commit\n",
    "\n",
    "from sklearn.preprocessing import OneHotEncoder\n",
    "\n"
   ]
  },
  {
   "cell_type": "code",
   "execution_count": null,
   "metadata": {},
   "outputs": [],
   "source": [
    "%%git_commit\n",
    "\n",
    "encode = OneHotEncoder(handle_unknown = 'ignore')\n",
    "\n",
    "array = []\n",
    "array_test = []\n",
    "for hot in one_hot:\n",
    "    print(hot)\n",
    "    x = encode.fit_transform(training[hot].to_numpy().reshape(-1, 1))\n",
    "    y = encode.transform(testing[hot].to_numpy().reshape(-1, 1))\n",
    "    print(x.shape)\n",
    "    array.append(x)\n",
    "    array_test.append(y)\n"
   ]
  },
  {
   "cell_type": "code",
   "execution_count": null,
   "metadata": {},
   "outputs": [],
   "source": [
    "%%git_commit\n",
    "\n",
    "not_hot = []\n",
    "for key in training.keys():\n",
    "    if key not in one_hot:\n",
    "        not_hot.append(key)\n",
    "        \n",
    "print(not_hot)"
   ]
  },
  {
   "cell_type": "code",
   "execution_count": null,
   "metadata": {},
   "outputs": [],
   "source": [
    "%%git_commit\n",
    "\n",
    "for i in range(len(array)):\n",
    "    print(array[i].shape)\n",
    "\n"
   ]
  },
  {
   "cell_type": "code",
   "execution_count": null,
   "metadata": {},
   "outputs": [],
   "source": [
    "%%git_commit\n",
    "\n",
    "from scipy.sparse import hstack\n",
    "\n"
   ]
  },
  {
   "cell_type": "code",
   "execution_count": null,
   "metadata": {},
   "outputs": [],
   "source": [
    "%%git_commit\n",
    "\n",
    "col_2 = ['CRSDepTime', 'CRSElapsedTime', 'Distance', 'DayofMonth']\n",
    "\n",
    "for col in col_2:\n",
    "    x = training[col].to_numpy().reshape(-1, 1)\n",
    "    y = testing[col].to_numpy().reshape(-1, 1)\n",
    "    array.append(x)\n",
    "    array_test.append(y)"
   ]
  },
  {
   "cell_type": "code",
   "execution_count": null,
   "metadata": {},
   "outputs": [],
   "source": [
    "%%git_commit\n",
    "\n",
    "X_train = hstack(array)\n",
    "X_test = hstack(array_test)"
   ]
  },
  {
   "cell_type": "code",
   "execution_count": null,
   "metadata": {},
   "outputs": [],
   "source": [
    "%%git_commit\n",
    "\n",
    "y_train = training['DepDel15'].to_numpy().reshape(-1)\n",
    "y_test = testing['DepDel15'].to_numpy().reshape(-1)\n"
   ]
  },
  {
   "cell_type": "code",
   "execution_count": null,
   "metadata": {},
   "outputs": [],
   "source": [
    "%%git_commit\n",
    "\n",
    "print(X_train.shape)\n",
    "print(X_test.shape)\n",
    "print(y_train.shape)\n",
    "print(y_test.shape)"
   ]
  },
  {
   "cell_type": "code",
   "execution_count": null,
   "metadata": {},
   "outputs": [],
   "source": [
    "%%git_commit\n",
    "\n",
    "from sklearn.ensemble import RandomForestClassifier\n",
    "from sklearn.metrics import confusion_matrix\n",
    "from sklearn.metrics import ConfusionMatrixDisplay\n",
    "import matplotlib.pyplot as plt\n"
   ]
  },
  {
   "cell_type": "code",
   "execution_count": null,
   "metadata": {},
   "outputs": [],
   "source": [
    "%%git_commit\n",
    "\n",
    "\n",
    "model = RandomForestClassifier(max_samples = 0.01, min_samples_leaf = 100)\n",
    "model.fit(X_train, y_train)"
   ]
  },
  {
   "cell_type": "code",
   "execution_count": null,
   "metadata": {},
   "outputs": [],
   "source": [
    "%%git_commit\n",
    "\n",
    "y_out = model.predict(X_test)\n",
    "\n"
   ]
  },
  {
   "cell_type": "code",
   "execution_count": null,
   "metadata": {},
   "outputs": [],
   "source": [
    "%%git_commit\n",
    "\n",
    "\n",
    "y_out = model.predict(X_test)\n",
    "matrix = confusion_matrix(y_test, y_out)\n",
    "display = ConfusionMatrixDisplay(matrix)\n",
    "display.plot()\n",
    "plt.show()"
   ]
  },
  {
   "cell_type": "markdown",
   "metadata": {},
   "source": [
    "# Evaluate Arrival Delay\n",
    "\n"
   ]
  },
  {
   "cell_type": "markdown",
   "metadata": {},
   "source": [
    "TODOS\n",
    "- Define Subset of features\n",
    "- For each feature, convert to appropriate value\n",
    "- Test time series prediction, normal prediction\n"
   ]
  },
  {
   "cell_type": "code",
   "execution_count": 63,
   "metadata": {},
   "outputs": [],
   "source": [
    "%%git_commit\n",
    "\n",
    "training = pd.read_csv('../archive/Combined_Flights_2018.csv').sample(100000)\n",
    "testing = pd.read_csv('../archive/Combined_Flights_2019.csv')\n"
   ]
  },
  {
   "cell_type": "code",
   "execution_count": 64,
   "metadata": {},
   "outputs": [],
   "source": [
    "%%git_commit\n",
    "\n",
    "\n",
    "training = training.dropna()\n",
    "testing = testing.dropna()\n"
   ]
  },
  {
   "cell_type": "code",
   "execution_count": 65,
   "metadata": {},
   "outputs": [],
   "source": [
    "%%git_commit\n",
    "\n",
    "\n",
    "dropped_column = ['ArrDelayMinutes', 'Flight_Number_Marketing_Airline', 'Flight_Number_Operating_Airline', 'DepDelay', 'ArrTime', 'AirTime', 'ActualElapsedTime', 'DepartureDelayGroups', 'DepTimeBlk', 'TaxiOut', 'WheelsOff', 'WheelsOn', 'TaxiIn', 'ArrDelay', 'ArrivalDelayGroups', 'ArrTimeBlk', 'DistanceGroup', 'DivAirportLandings']\n",
    "\n",
    "\n"
   ]
  },
  {
   "cell_type": "code",
   "execution_count": 66,
   "metadata": {},
   "outputs": [],
   "source": [
    "%%git_commit\n",
    "\n",
    "for column in dropped_column:\n",
    "    training = training.drop(column, axis = 1)\n",
    "    testing = testing.drop(column, axis = 1)\n",
    "    \n",
    "    "
   ]
  },
  {
   "cell_type": "code",
   "execution_count": 67,
   "metadata": {},
   "outputs": [
    {
     "data": {
      "text/plain": [
       "Index(['FlightDate', 'Airline', 'Origin', 'Dest', 'Cancelled', 'Diverted',\n",
       "       'CRSDepTime', 'DepTime', 'DepDelayMinutes', 'CRSElapsedTime',\n",
       "       'Distance', 'Year', 'Quarter', 'Month', 'DayofMonth', 'DayOfWeek',\n",
       "       'Marketing_Airline_Network', 'Operated_or_Branded_Code_Share_Partners',\n",
       "       'DOT_ID_Marketing_Airline', 'IATA_Code_Marketing_Airline',\n",
       "       'Operating_Airline', 'DOT_ID_Operating_Airline',\n",
       "       'IATA_Code_Operating_Airline', 'Tail_Number', 'OriginAirportID',\n",
       "       'OriginAirportSeqID', 'OriginCityMarketID', 'OriginCityName',\n",
       "       'OriginState', 'OriginStateFips', 'OriginStateName', 'OriginWac',\n",
       "       'DestAirportID', 'DestAirportSeqID', 'DestCityMarketID', 'DestCityName',\n",
       "       'DestState', 'DestStateFips', 'DestStateName', 'DestWac', 'DepDel15',\n",
       "       'CRSArrTime', 'ArrDel15'],\n",
       "      dtype='object')"
      ]
     },
     "execution_count": 67,
     "metadata": {},
     "output_type": "execute_result"
    }
   ],
   "source": [
    "%%git_commit\n",
    "\n",
    "training.keys()\n"
   ]
  },
  {
   "cell_type": "code",
   "execution_count": 68,
   "metadata": {},
   "outputs": [],
   "source": [
    "%%git_commit\n",
    "\n",
    "d2_column = ['FlightDate', 'Marketing_Airline_Network', 'Operated_or_Branded_Code_Share_Partners' ,  'DOT_ID_Marketing_Airline', 'IATA_Code_Marketing_Airline', 'DOT_ID_Operating_Airline', 'IATA_Code_Operating_Airline', 'OriginAirportSeqID', 'DestAirportSeqID', 'CRSArrTime', 'DestStateName', 'DestState', 'DestCityName', 'OriginStateName', 'OriginState', 'OriginCityName','Year',  'Diverted', 'Cancelled', 'Tail_Number']\n"
   ]
  },
  {
   "cell_type": "code",
   "execution_count": 69,
   "metadata": {},
   "outputs": [],
   "source": [
    "%%git_commit\n",
    "\n",
    "for column in d2_column:\n",
    "    training = training.drop(column, axis = 1)\n",
    "    testing = testing.drop(column, axis = 1)\n"
   ]
  },
  {
   "cell_type": "code",
   "execution_count": 70,
   "metadata": {},
   "outputs": [
    {
     "data": {
      "text/plain": [
       "Index(['Airline', 'Origin', 'Dest', 'CRSDepTime', 'DepTime', 'DepDelayMinutes',\n",
       "       'CRSElapsedTime', 'Distance', 'Quarter', 'Month', 'DayofMonth',\n",
       "       'DayOfWeek', 'Operating_Airline', 'OriginAirportID',\n",
       "       'OriginCityMarketID', 'OriginStateFips', 'OriginWac', 'DestAirportID',\n",
       "       'DestCityMarketID', 'DestStateFips', 'DestWac', 'DepDel15', 'ArrDel15'],\n",
       "      dtype='object')"
      ]
     },
     "execution_count": 70,
     "metadata": {},
     "output_type": "execute_result"
    }
   ],
   "source": [
    "%%git_commit\n",
    "\n",
    "testing.keys()\n"
   ]
  },
  {
   "cell_type": "code",
   "execution_count": 71,
   "metadata": {},
   "outputs": [
    {
     "name": "stdout",
     "output_type": "stream",
     "text": [
      "DestWac\n",
      "(98013, 52)\n",
      "DestStateFips\n",
      "(98013, 52)\n",
      "DestCityMarketID\n",
      "(98013, 342)\n",
      "DestAirportID\n",
      "(98013, 366)\n",
      "OriginWac\n",
      "(98013, 52)\n",
      "OriginStateFips\n",
      "(98013, 52)\n",
      "OriginCityMarketID\n",
      "(98013, 341)\n",
      "OriginAirportID\n",
      "(98013, 365)\n",
      "Operating_Airline\n",
      "(98013, 28)\n",
      "DayOfWeek\n",
      "(98013, 7)\n",
      "Month\n",
      "(98013, 12)\n",
      "Quarter\n",
      "(98013, 4)\n",
      "Dest\n",
      "(98013, 366)\n",
      "Origin\n",
      "(98013, 365)\n",
      "Airline\n",
      "(98013, 28)\n"
     ]
    }
   ],
   "source": [
    "%%git_commit\n",
    "\n",
    "from sklearn.preprocessing import OneHotEncoder\n",
    "\n",
    "encode = OneHotEncoder(handle_unknown = 'ignore')\n",
    "\n",
    "one_hot = ['DestWac', 'DestStateFips', 'DestCityMarketID', 'DestAirportID', 'OriginWac', 'OriginStateFips', 'OriginCityMarketID', 'OriginAirportID', 'Operating_Airline', 'DayOfWeek', 'Month', 'Quarter', 'Dest', 'Origin', 'Airline' ]\n",
    "\n",
    "array = []\n",
    "array_test = []\n",
    "for hot in one_hot:\n",
    "    print(hot)\n",
    "    x = encode.fit_transform(training[hot].to_numpy().reshape(-1, 1))\n",
    "    y = encode.transform(testing[hot].to_numpy().reshape(-1, 1))\n",
    "    print(x.shape)\n",
    "    array.append(x)\n",
    "    array_test.append(y)\n"
   ]
  },
  {
   "cell_type": "code",
   "execution_count": 72,
   "metadata": {},
   "outputs": [
    {
     "name": "stdout",
     "output_type": "stream",
     "text": [
      "['CRSDepTime', 'DepTime', 'DepDelayMinutes', 'CRSElapsedTime', 'Distance', 'DayofMonth', 'DepDel15', 'ArrDel15']\n"
     ]
    }
   ],
   "source": [
    "%%git_commit\n",
    "\n",
    "not_hot = []\n",
    "for key in training.keys():\n",
    "    if key not in one_hot:\n",
    "        not_hot.append(key)\n",
    "        \n",
    "print(not_hot)\n"
   ]
  },
  {
   "cell_type": "code",
   "execution_count": 73,
   "metadata": {},
   "outputs": [],
   "source": [
    "%%git_commit\n",
    "\n",
    "from scipy.sparse import hstack\n"
   ]
  },
  {
   "cell_type": "code",
   "execution_count": 74,
   "metadata": {},
   "outputs": [],
   "source": [
    "%%git_commit\n",
    "\n",
    "\n",
    "col_2 = ['CRSDepTime', 'DepTime', 'DepDelayMinutes', 'CRSElapsedTime', 'Distance', 'DayofMonth', 'DepDel15']\n",
    "\n",
    "#col_2 = ['CRSDepTime', 'DepTime', 'CRSElapsedTime', 'Distance', 'DayofMonth']\n",
    "\n",
    "for col in col_2:\n",
    "    x = training[col].to_numpy().reshape(-1, 1)\n",
    "    y = testing[col].to_numpy().reshape(-1, 1)\n",
    "    array.append(x)\n",
    "    array_test.append(y)\n",
    "    "
   ]
  },
  {
   "cell_type": "code",
   "execution_count": 75,
   "metadata": {},
   "outputs": [],
   "source": [
    "%%git_commit\n",
    "\n",
    "X_train = hstack(array)\n",
    "X_test = hstack(array_test)\n"
   ]
  },
  {
   "cell_type": "code",
   "execution_count": 76,
   "metadata": {},
   "outputs": [],
   "source": [
    "%%git_commit\n",
    "\n",
    "y_train = training['ArrDel15'].to_numpy().reshape(-1)\n",
    "y_test = testing['ArrDel15'].to_numpy().reshape(-1)\n"
   ]
  },
  {
   "cell_type": "code",
   "execution_count": 83,
   "metadata": {},
   "outputs": [],
   "source": [
    "%%git_commit\n",
    "\n",
    "X_train = training.loc[:, ['DepDel15', 'DepDelayMinutes', 'DepTime']].to_numpy()\n",
    "X_test = testing.loc[:, ['DepDel15', 'DepDelayMinutes', 'DepTime']].to_numpy()\n"
   ]
  },
  {
   "cell_type": "code",
   "execution_count": 77,
   "metadata": {},
   "outputs": [
    {
     "name": "stdout",
     "output_type": "stream",
     "text": [
      "(98013, 2439)\n",
      "(7917263, 2439)\n",
      "(98013,)\n",
      "(7917263,)\n"
     ]
    }
   ],
   "source": [
    "%%git_commit\n",
    "\n",
    "print(X_train.shape)\n",
    "print(X_test.shape)\n",
    "print(y_train.shape)\n",
    "print(y_test.shape)\n"
   ]
  },
  {
   "cell_type": "code",
   "execution_count": null,
   "metadata": {},
   "outputs": [],
   "source": [
    "%%git_commit\n",
    "\n",
    "y_test[y_test > 500] = 500\n",
    "y_train[y_train > 500] = 500"
   ]
  },
  {
   "cell_type": "code",
   "execution_count": null,
   "metadata": {},
   "outputs": [],
   "source": [
    "%%git_commit\n",
    "import matplotlib.pyplot as plt\n",
    "plt.hist(y_test, bins=9)\n"
   ]
  },
  {
   "cell_type": "code",
   "execution_count": 38,
   "metadata": {},
   "outputs": [],
   "source": [
    "%%git_commit\n",
    "\n",
    "# REGRESSION TEST\n",
    "\n",
    "from sklearn.ensemble import RandomForestRegressor\n",
    "from sklearn.ensemble import RandomForestClassifier\n",
    "from sklearn.metrics import explained_variance_score\n",
    "from sklearn.linear_model import LinearRegression\n",
    "from sklearn.metrics import accuracy_score, ConfusionMatrixDisplay, confusion_matrix"
   ]
  },
  {
   "cell_type": "code",
   "execution_count": null,
   "metadata": {},
   "outputs": [],
   "source": [
    "%%git_commit\n",
    "\n",
    "#model = RandomForestRegressor(max_samples = 0.01, min_samples_leaf = 100)\n",
    "model = LinearRegression()\n",
    "model.fit(X_train, y_train)"
   ]
  },
  {
   "cell_type": "code",
   "execution_count": null,
   "metadata": {},
   "outputs": [],
   "source": [
    "%%git_commit\n",
    "\n",
    "y_out = model.predict(X_test)\n",
    "print(explained_variance_score(y_test, y_out))"
   ]
  },
  {
   "cell_type": "code",
   "execution_count": null,
   "metadata": {},
   "outputs": [],
   "source": [
    "%%git_commit\n",
    "plt.hist(y_out, bins=100)"
   ]
  },
  {
   "cell_type": "code",
   "execution_count": 84,
   "metadata": {},
   "outputs": [
    {
     "data": {
      "text/plain": [
       "RandomForestClassifier(min_samples_leaf=100)"
      ]
     },
     "execution_count": 84,
     "metadata": {},
     "output_type": "execute_result"
    }
   ],
   "source": [
    "%%git_commit\n",
    "\n",
    "\n",
    "#model = RandomForestClassifier(max_samples = 0.01, min_samples_leaf = 100)\n",
    "model = RandomForestClassifier(min_samples_leaf = 100)\n",
    "model.fit(X_train, y_train)\n"
   ]
  },
  {
   "cell_type": "code",
   "execution_count": null,
   "metadata": {},
   "outputs": [],
   "source": [
    "%%git_commit\n",
    "\n",
    "y_out = model.predict(X_test)\n",
    "matrix = confusion_matrix(y_test, y_out)\n",
    "display = ConfusionMatrixDisplay(matrix)\n",
    "display.plot()\n"
   ]
  },
  {
   "cell_type": "code",
   "execution_count": null,
   "metadata": {},
   "outputs": [],
   "source": [
    "%%git_commit\n",
    "\n",
    "from sklearn.metrics import accuracy_score\n",
    "\n",
    "print(accuracy_score(y_test, y_out))\n"
   ]
  },
  {
   "cell_type": "code",
   "execution_count": null,
   "metadata": {},
   "outputs": [],
   "source": [
    "%%git_commit\n"
   ]
  }
 ],
 "metadata": {
  "kernelspec": {
   "display_name": "Python 3",
   "language": "python",
   "name": "python3"
  },
  "vscode": {
   "interpreter": {
    "hash": "31f2aee4e71d21fbe5cf8b01ff0e069b9275f58929596ceb00d14d90e3e16cd6"
   }
  }
 },
 "nbformat": 4,
 "nbformat_minor": 4
}
