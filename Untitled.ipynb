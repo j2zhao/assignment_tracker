{
 "cells": [
  {
   "cell_type": "code",
   "execution_count": 1,
   "metadata": {},
   "outputs": [
    {
     "data": {
      "application/javascript": [
       "IPython.notebook.set_autosave_interval(30000)"
      ]
     },
     "metadata": {},
     "output_type": "display_data"
    },
    {
     "name": "stdout",
     "output_type": "stream",
     "text": [
      "Autosaving every 30 seconds\n"
     ]
    }
   ],
   "source": [
    "%load_ext jupyter_record\n",
    "%autosave 30\n"
   ]
  },
  {
   "cell_type": "code",
   "execution_count": 2,
   "metadata": {},
   "outputs": [
    {
     "name": "stdout",
     "output_type": "stream",
     "text": [
      "__name__\n",
      "__main__\n",
      "__doc__\n",
      "Automatically created module for IPython interactive environment\n",
      "__package__\n",
      "None\n",
      "__loader__\n",
      "None\n",
      "__spec__\n",
      "None\n",
      "__builtin__\n",
      "<module 'builtins' (built-in)>\n",
      "__builtins__\n",
      "<module 'builtins' (built-in)>\n",
      "_ih\n",
      "['', \"get_ipython().run_line_magic('load_ext', 'jupyter_record')\\nget_ipython().run_line_magic('autosave', '30')\", 'get_ipython().run_cell_magic(\\'git_commit\\', \\'\\', \"\\\\nprint(\\'hello world\\')\\\\n\")']\n",
      "_oh\n",
      "{}\n",
      "_dh\n",
      "['/Users/jinjinzhao/Google_Drive/assignment_tracker/assignment_tracker']\n",
      "In\n",
      "['', \"get_ipython().run_line_magic('load_ext', 'jupyter_record')\\nget_ipython().run_line_magic('autosave', '30')\", 'get_ipython().run_cell_magic(\\'git_commit\\', \\'\\', \"\\\\nprint(\\'hello world\\')\\\\n\")']\n",
      "Out\n",
      "{}\n",
      "get_ipython\n",
      "<bound method InteractiveShell.get_ipython of <ipykernel.zmqshell.ZMQInteractiveShell object at 0x7f9dbed9f970>>\n",
      "exit\n",
      "<IPython.core.autocall.ZMQExitAutocall object at 0x7f9dbef12c70>\n",
      "quit\n",
      "<IPython.core.autocall.ZMQExitAutocall object at 0x7f9dbef12c70>\n",
      "_\n",
      "\n",
      "__\n",
      "\n",
      "___\n",
      "\n",
      "_i\n",
      "%load_ext jupyter_record\n",
      "%autosave 30\n",
      "_ii\n",
      "\n",
      "_iii\n",
      "\n",
      "_i1\n",
      "%load_ext jupyter_record\n",
      "%autosave 30\n",
      "_i2\n",
      "%%git_commit\n",
      "\n",
      "print('hello world')\n",
      "hello world\n"
     ]
    }
   ],
   "source": [
    "%%git_commit\n",
    "\n",
    "print('hello world')\n"
   ]
  },
  {
   "cell_type": "code",
   "execution_count": null,
   "metadata": {},
   "outputs": [],
   "source": [
    "%%git_commit\n"
   ]
  }
 ],
 "metadata": {
  "kernelspec": {
   "display_name": "Python 3",
   "language": "python",
   "name": "python3"
  },
  "language_info": {
   "codemirror_mode": {
    "name": "ipython",
    "version": 3
   },
   "file_extension": ".py",
   "mimetype": "text/x-python",
   "name": "python",
   "nbconvert_exporter": "python",
   "pygments_lexer": "ipython3",
   "version": "3.8.5"
  }
 },
 "nbformat": 4,
 "nbformat_minor": 4
}
