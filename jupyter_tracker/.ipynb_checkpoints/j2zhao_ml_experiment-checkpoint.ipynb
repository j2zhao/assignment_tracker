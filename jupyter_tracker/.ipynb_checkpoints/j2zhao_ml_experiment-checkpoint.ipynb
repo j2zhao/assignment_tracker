{
 "cells": [
  {
   "cell_type": "code",
   "execution_count": 1,
   "metadata": {},
   "outputs": [],
   "source": [
    "%load_ext jupyter_record\n",
    "%set_filename j2zhao_ml_experiment.ipynb\n",
    "# do not change your notebook name\n",
    "# do not touch this cell"
   ]
  },
  {
   "cell_type": "markdown",
   "metadata": {},
   "source": [
    "# Introduction\n",
    "\n",
    "Thank you for helping us out with this data science project! We are researchers from University of Chicago and Technion - Israel Institute of Technology. The goal of this our project is to track the process of how expert data scientists actually reason with data in a machine learning project. \n",
    "\n",
    "In order to do this, we are tracking the code and executions of this notebook.\n",
    "\n",
    "\n",
    "**Important:** We ask you to **NOT** use external machine learning code repositories such as www.github.com and wwww.kaggle.com in this project. We also ask you not to use machine learning code generation tools such as ChatGPT, Github Copilate, and Google Bard. Note that copy and paste have been disabled on this notebook as a barrier for these tools.\n",
    "\n",
    "These hard requirement is important to our research, and should not impede the completion of this project. You can use additional online resources such as StackOverflow, and code documentation websites (e.g. scikit-learn.org)."
   ]
  },
  {
   "cell_type": "markdown",
   "metadata": {},
   "source": [
    "# Project Problem"
   ]
  },
  {
   "cell_type": "markdown",
   "metadata": {},
   "source": [
    "You will be asked to predict whether a domestic USA flight will be delayed or not, based on information before the flight departure. "
   ]
  }
 ],
 "metadata": {
  "kernelspec": {
   "display_name": "Python 3",
   "language": "python",
   "name": "python3"
  },
  "language_info": {
   "codemirror_mode": {
    "name": "ipython",
    "version": 3
   },
   "file_extension": ".py",
   "mimetype": "text/x-python",
   "name": "python",
   "nbconvert_exporter": "python",
   "pygments_lexer": "ipython3",
   "version": "3.8.5"
  },
  "vscode": {
   "interpreter": {
    "hash": "31f2aee4e71d21fbe5cf8b01ff0e069b9275f58929596ceb00d14d90e3e16cd6"
   }
  }
 },
 "nbformat": 4,
 "nbformat_minor": 4
}
