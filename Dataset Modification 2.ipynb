{
 "cells": [
  {
   "cell_type": "code",
   "execution_count": 105,
   "metadata": {},
   "outputs": [
    {
     "name": "stdout",
     "output_type": "stream",
     "text": [
      "The jupyter_record extension is already loaded. To reload it, use:\n",
      "  %reload_ext jupyter_record\n"
     ]
    }
   ],
   "source": [
    "# do not touch this cell \n",
    "%load_ext jupyter_record\n"
   ]
  },
  {
   "cell_type": "markdown",
   "metadata": {},
   "source": [
    "# Imports\n"
   ]
  },
  {
   "cell_type": "code",
   "execution_count": 112,
   "metadata": {},
   "outputs": [],
   "source": [
    "%%git_commit\n",
    "\n",
    "import pandas as pd\n",
    "from pandas.api.types import CategoricalDtype\n",
    "from sklearn.preprocessing import OneHotEncoder\n",
    "from scipy.sparse import hstack,vstack\n",
    "import numpy as np\n"
   ]
  },
  {
   "cell_type": "markdown",
   "metadata": {},
   "source": [
    "# Dataset Load\n",
    "\n",
    "\n"
   ]
  },
  {
   "cell_type": "code",
   "execution_count": 22,
   "metadata": {},
   "outputs": [],
   "source": [
    "%%git_commit\n",
    "\n",
    "training = pd.read_csv('../archive/Combined_Flights_2018.csv')\n",
    "testing = pd.read_csv('../archive/Combined_Flights_2019.csv')\n"
   ]
  },
  {
   "cell_type": "code",
   "execution_count": 23,
   "metadata": {},
   "outputs": [],
   "source": [
    "%%git_commit\n",
    "\n",
    "training = training.dropna()\n",
    "testing = testing.dropna()\n",
    "\n",
    "\n",
    "\n"
   ]
  },
  {
   "cell_type": "code",
   "execution_count": 24,
   "metadata": {},
   "outputs": [],
   "source": [
    "%%git_commit\n",
    "\n",
    "dropped_column = ['Flight_Number_Marketing_Airline', 'Flight_Number_Operating_Airline', 'DepTime', 'DepDelay', 'ArrTime', 'ArrDelayMinutes', 'AirTime', 'ActualElapsedTime', 'DepDelayMinutes', 'DepartureDelayGroups', 'DepTimeBlk', 'TaxiOut', 'WheelsOff', 'WheelsOn', 'TaxiIn', 'ArrDelay', 'ArrDel15', 'ArrivalDelayGroups', 'ArrTimeBlk', 'DistanceGroup', 'DivAirportLandings']\n",
    "\n",
    "\n"
   ]
  },
  {
   "cell_type": "code",
   "execution_count": 25,
   "metadata": {},
   "outputs": [],
   "source": [
    "%%git_commit\n",
    "\n",
    "for column in dropped_column:\n",
    "    training = training.drop(column, axis = 1)\n",
    "    testing = testing.drop(column, axis = 1)\n"
   ]
  },
  {
   "cell_type": "code",
   "execution_count": 17,
   "metadata": {},
   "outputs": [
    {
     "data": {
      "text/plain": [
       "array([1025, 1555, 1630, ...,  438,  317,  441])"
      ]
     },
     "execution_count": 17,
     "metadata": {},
     "output_type": "execute_result"
    }
   ],
   "source": [
    "%%git_commit\n",
    "\n",
    "\n",
    "training['CRSDepTime'].unique()"
   ]
  },
  {
   "cell_type": "markdown",
   "metadata": {},
   "source": [
    "# Sort by Appropriate Data\n",
    "\n",
    "'Month', 'DayofMonth', 'CRSDepTime' -> not actually completely information free, but good enough"
   ]
  },
  {
   "cell_type": "code",
   "execution_count": 26,
   "metadata": {},
   "outputs": [],
   "source": [
    "%%git_commit\n",
    "training = training.sort_values(['Month', 'DayofMonth', 'CRSDepTime'])\n",
    "testing = testing.sort_values(['Month', 'DayofMonth', 'CRSDepTime'])\n"
   ]
  },
  {
   "cell_type": "code",
   "execution_count": 28,
   "metadata": {},
   "outputs": [
    {
     "data": {
      "text/plain": [
       "Index(['FlightDate', 'Airline', 'Origin', 'Dest', 'Cancelled', 'Diverted',\n",
       "       'CRSDepTime', 'CRSElapsedTime', 'Distance', 'Year', 'Quarter', 'Month',\n",
       "       'DayofMonth', 'DayOfWeek', 'Marketing_Airline_Network',\n",
       "       'Operated_or_Branded_Code_Share_Partners', 'DOT_ID_Marketing_Airline',\n",
       "       'IATA_Code_Marketing_Airline', 'Operating_Airline',\n",
       "       'DOT_ID_Operating_Airline', 'IATA_Code_Operating_Airline',\n",
       "       'Tail_Number', 'OriginAirportID', 'OriginAirportSeqID',\n",
       "       'OriginCityMarketID', 'OriginCityName', 'OriginState',\n",
       "       'OriginStateFips', 'OriginStateName', 'OriginWac', 'DestAirportID',\n",
       "       'DestAirportSeqID', 'DestCityMarketID', 'DestCityName', 'DestState',\n",
       "       'DestStateFips', 'DestStateName', 'DestWac', 'DepDel15', 'CRSArrTime'],\n",
       "      dtype='object')"
      ]
     },
     "execution_count": 28,
     "metadata": {},
     "output_type": "execute_result"
    }
   ],
   "source": [
    "%%git_commit\n",
    "\n",
    "training.keys()"
   ]
  },
  {
   "cell_type": "markdown",
   "metadata": {},
   "source": [
    "# One Hot Encode\n"
   ]
  },
  {
   "cell_type": "code",
   "execution_count": 29,
   "metadata": {},
   "outputs": [],
   "source": [
    "%%git_commit\n",
    "\n",
    "d2_column = ['FlightDate', 'Marketing_Airline_Network', 'Operated_or_Branded_Code_Share_Partners' ,  'DOT_ID_Marketing_Airline', 'IATA_Code_Marketing_Airline', 'DOT_ID_Operating_Airline', 'IATA_Code_Operating_Airline', 'OriginAirportSeqID', 'DestAirportSeqID', 'CRSArrTime', 'DestStateName', 'DestState', 'DestCityName', 'OriginStateName', 'OriginState', 'OriginCityName','Year',  'Diverted', 'Cancelled', 'Tail_Number', 'Quarter',  'DayOfWeek', ]\n"
   ]
  },
  {
   "cell_type": "code",
   "execution_count": 30,
   "metadata": {},
   "outputs": [],
   "source": [
    "%%git_commit\n",
    "\n",
    "for column in d2_column:\n",
    "    training = training.drop(column, axis = 1)\n",
    "    testing = testing.drop(column, axis = 1)\n",
    "    "
   ]
  },
  {
   "cell_type": "code",
   "execution_count": 36,
   "metadata": {},
   "outputs": [
    {
     "data": {
      "text/html": [
       "<div>\n",
       "<style scoped>\n",
       "    .dataframe tbody tr th:only-of-type {\n",
       "        vertical-align: middle;\n",
       "    }\n",
       "\n",
       "    .dataframe tbody tr th {\n",
       "        vertical-align: top;\n",
       "    }\n",
       "\n",
       "    .dataframe thead th {\n",
       "        text-align: right;\n",
       "    }\n",
       "</style>\n",
       "<table border=\"1\" class=\"dataframe\">\n",
       "  <thead>\n",
       "    <tr style=\"text-align: right;\">\n",
       "      <th></th>\n",
       "      <th>index</th>\n",
       "      <th>Airline</th>\n",
       "      <th>Origin</th>\n",
       "      <th>Dest</th>\n",
       "      <th>CRSDepTime</th>\n",
       "      <th>CRSElapsedTime</th>\n",
       "      <th>Distance</th>\n",
       "      <th>Month</th>\n",
       "      <th>DayofMonth</th>\n",
       "      <th>Operating_Airline</th>\n",
       "      <th>OriginAirportID</th>\n",
       "      <th>OriginCityMarketID</th>\n",
       "      <th>OriginStateFips</th>\n",
       "      <th>OriginWac</th>\n",
       "      <th>DestAirportID</th>\n",
       "      <th>DestCityMarketID</th>\n",
       "      <th>DestStateFips</th>\n",
       "      <th>DestWac</th>\n",
       "      <th>DepDel15</th>\n",
       "    </tr>\n",
       "  </thead>\n",
       "  <tbody>\n",
       "    <tr>\n",
       "      <th>0</th>\n",
       "      <td>7915905</td>\n",
       "      <td>United Air Lines Inc.</td>\n",
       "      <td>SFO</td>\n",
       "      <td>ORD</td>\n",
       "      <td>19</td>\n",
       "      <td>246.0</td>\n",
       "      <td>1846.0</td>\n",
       "      <td>1</td>\n",
       "      <td>1</td>\n",
       "      <td>UA</td>\n",
       "      <td>14771</td>\n",
       "      <td>32457</td>\n",
       "      <td>6</td>\n",
       "      <td>91</td>\n",
       "      <td>13930</td>\n",
       "      <td>30977</td>\n",
       "      <td>17</td>\n",
       "      <td>41</td>\n",
       "      <td>0.0</td>\n",
       "    </tr>\n",
       "    <tr>\n",
       "      <th>1</th>\n",
       "      <td>7916349</td>\n",
       "      <td>United Air Lines Inc.</td>\n",
       "      <td>SFO</td>\n",
       "      <td>IAH</td>\n",
       "      <td>25</td>\n",
       "      <td>215.0</td>\n",
       "      <td>1635.0</td>\n",
       "      <td>1</td>\n",
       "      <td>1</td>\n",
       "      <td>UA</td>\n",
       "      <td>14771</td>\n",
       "      <td>32457</td>\n",
       "      <td>6</td>\n",
       "      <td>91</td>\n",
       "      <td>12266</td>\n",
       "      <td>31453</td>\n",
       "      <td>48</td>\n",
       "      <td>74</td>\n",
       "      <td>0.0</td>\n",
       "    </tr>\n",
       "    <tr>\n",
       "      <th>2</th>\n",
       "      <td>7531120</td>\n",
       "      <td>Alaska Airlines Inc.</td>\n",
       "      <td>SEA</td>\n",
       "      <td>ORD</td>\n",
       "      <td>35</td>\n",
       "      <td>245.0</td>\n",
       "      <td>1721.0</td>\n",
       "      <td>1</td>\n",
       "      <td>1</td>\n",
       "      <td>AS</td>\n",
       "      <td>14747</td>\n",
       "      <td>30559</td>\n",
       "      <td>53</td>\n",
       "      <td>93</td>\n",
       "      <td>13930</td>\n",
       "      <td>30977</td>\n",
       "      <td>17</td>\n",
       "      <td>41</td>\n",
       "      <td>0.0</td>\n",
       "    </tr>\n",
       "    <tr>\n",
       "      <th>3</th>\n",
       "      <td>7915616</td>\n",
       "      <td>United Air Lines Inc.</td>\n",
       "      <td>LAX</td>\n",
       "      <td>EWR</td>\n",
       "      <td>45</td>\n",
       "      <td>318.0</td>\n",
       "      <td>2454.0</td>\n",
       "      <td>1</td>\n",
       "      <td>1</td>\n",
       "      <td>UA</td>\n",
       "      <td>12892</td>\n",
       "      <td>32575</td>\n",
       "      <td>6</td>\n",
       "      <td>91</td>\n",
       "      <td>11618</td>\n",
       "      <td>31703</td>\n",
       "      <td>34</td>\n",
       "      <td>21</td>\n",
       "      <td>0.0</td>\n",
       "    </tr>\n",
       "    <tr>\n",
       "      <th>4</th>\n",
       "      <td>7868252</td>\n",
       "      <td>Frontier Airlines Inc.</td>\n",
       "      <td>DEN</td>\n",
       "      <td>RSW</td>\n",
       "      <td>50</td>\n",
       "      <td>221.0</td>\n",
       "      <td>1607.0</td>\n",
       "      <td>1</td>\n",
       "      <td>1</td>\n",
       "      <td>F9</td>\n",
       "      <td>11292</td>\n",
       "      <td>30325</td>\n",
       "      <td>8</td>\n",
       "      <td>82</td>\n",
       "      <td>14635</td>\n",
       "      <td>31714</td>\n",
       "      <td>12</td>\n",
       "      <td>33</td>\n",
       "      <td>0.0</td>\n",
       "    </tr>\n",
       "    <tr>\n",
       "      <th>...</th>\n",
       "      <td>...</td>\n",
       "      <td>...</td>\n",
       "      <td>...</td>\n",
       "      <td>...</td>\n",
       "      <td>...</td>\n",
       "      <td>...</td>\n",
       "      <td>...</td>\n",
       "      <td>...</td>\n",
       "      <td>...</td>\n",
       "      <td>...</td>\n",
       "      <td>...</td>\n",
       "      <td>...</td>\n",
       "      <td>...</td>\n",
       "      <td>...</td>\n",
       "      <td>...</td>\n",
       "      <td>...</td>\n",
       "      <td>...</td>\n",
       "      <td>...</td>\n",
       "      <td>...</td>\n",
       "    </tr>\n",
       "    <tr>\n",
       "      <th>978587</th>\n",
       "      <td>4253635</td>\n",
       "      <td>JetBlue Airways</td>\n",
       "      <td>LAS</td>\n",
       "      <td>JFK</td>\n",
       "      <td>2347</td>\n",
       "      <td>292.0</td>\n",
       "      <td>2248.0</td>\n",
       "      <td>12</td>\n",
       "      <td>31</td>\n",
       "      <td>B6</td>\n",
       "      <td>12889</td>\n",
       "      <td>32211</td>\n",
       "      <td>32</td>\n",
       "      <td>85</td>\n",
       "      <td>12478</td>\n",
       "      <td>31703</td>\n",
       "      <td>36</td>\n",
       "      <td>22</td>\n",
       "      <td>0.0</td>\n",
       "    </tr>\n",
       "    <tr>\n",
       "      <th>978588</th>\n",
       "      <td>4311059</td>\n",
       "      <td>Delta Air Lines Inc.</td>\n",
       "      <td>LAS</td>\n",
       "      <td>ATL</td>\n",
       "      <td>2350</td>\n",
       "      <td>221.0</td>\n",
       "      <td>1747.0</td>\n",
       "      <td>12</td>\n",
       "      <td>31</td>\n",
       "      <td>DL</td>\n",
       "      <td>12889</td>\n",
       "      <td>32211</td>\n",
       "      <td>32</td>\n",
       "      <td>85</td>\n",
       "      <td>10397</td>\n",
       "      <td>30397</td>\n",
       "      <td>13</td>\n",
       "      <td>34</td>\n",
       "      <td>0.0</td>\n",
       "    </tr>\n",
       "    <tr>\n",
       "      <th>978589</th>\n",
       "      <td>4520800</td>\n",
       "      <td>United Air Lines Inc.</td>\n",
       "      <td>PHX</td>\n",
       "      <td>IAD</td>\n",
       "      <td>2355</td>\n",
       "      <td>240.0</td>\n",
       "      <td>1956.0</td>\n",
       "      <td>12</td>\n",
       "      <td>31</td>\n",
       "      <td>UA</td>\n",
       "      <td>14107</td>\n",
       "      <td>30466</td>\n",
       "      <td>4</td>\n",
       "      <td>81</td>\n",
       "      <td>12264</td>\n",
       "      <td>30852</td>\n",
       "      <td>51</td>\n",
       "      <td>38</td>\n",
       "      <td>0.0</td>\n",
       "    </tr>\n",
       "    <tr>\n",
       "      <th>978590</th>\n",
       "      <td>4253480</td>\n",
       "      <td>JetBlue Airways</td>\n",
       "      <td>JFK</td>\n",
       "      <td>BQN</td>\n",
       "      <td>2358</td>\n",
       "      <td>224.0</td>\n",
       "      <td>1576.0</td>\n",
       "      <td>12</td>\n",
       "      <td>31</td>\n",
       "      <td>B6</td>\n",
       "      <td>12478</td>\n",
       "      <td>31703</td>\n",
       "      <td>36</td>\n",
       "      <td>22</td>\n",
       "      <td>10732</td>\n",
       "      <td>30732</td>\n",
       "      <td>72</td>\n",
       "      <td>3</td>\n",
       "      <td>0.0</td>\n",
       "    </tr>\n",
       "    <tr>\n",
       "      <th>978591</th>\n",
       "      <td>4443902</td>\n",
       "      <td>SkyWest Airlines Inc.</td>\n",
       "      <td>LAX</td>\n",
       "      <td>AUS</td>\n",
       "      <td>2359</td>\n",
       "      <td>191.0</td>\n",
       "      <td>1242.0</td>\n",
       "      <td>12</td>\n",
       "      <td>31</td>\n",
       "      <td>OO</td>\n",
       "      <td>12892</td>\n",
       "      <td>32575</td>\n",
       "      <td>6</td>\n",
       "      <td>91</td>\n",
       "      <td>10423</td>\n",
       "      <td>30423</td>\n",
       "      <td>48</td>\n",
       "      <td>74</td>\n",
       "      <td>0.0</td>\n",
       "    </tr>\n",
       "  </tbody>\n",
       "</table>\n",
       "<p>978592 rows × 19 columns</p>\n",
       "</div>"
      ],
      "text/plain": [
       "          index                 Airline Origin Dest  CRSDepTime  \\\n",
       "0       7915905   United Air Lines Inc.    SFO  ORD          19   \n",
       "1       7916349   United Air Lines Inc.    SFO  IAH          25   \n",
       "2       7531120    Alaska Airlines Inc.    SEA  ORD          35   \n",
       "3       7915616   United Air Lines Inc.    LAX  EWR          45   \n",
       "4       7868252  Frontier Airlines Inc.    DEN  RSW          50   \n",
       "...         ...                     ...    ...  ...         ...   \n",
       "978587  4253635         JetBlue Airways    LAS  JFK        2347   \n",
       "978588  4311059    Delta Air Lines Inc.    LAS  ATL        2350   \n",
       "978589  4520800   United Air Lines Inc.    PHX  IAD        2355   \n",
       "978590  4253480         JetBlue Airways    JFK  BQN        2358   \n",
       "978591  4443902   SkyWest Airlines Inc.    LAX  AUS        2359   \n",
       "\n",
       "        CRSElapsedTime  Distance  Month  DayofMonth Operating_Airline  \\\n",
       "0                246.0    1846.0      1           1                UA   \n",
       "1                215.0    1635.0      1           1                UA   \n",
       "2                245.0    1721.0      1           1                AS   \n",
       "3                318.0    2454.0      1           1                UA   \n",
       "4                221.0    1607.0      1           1                F9   \n",
       "...                ...       ...    ...         ...               ...   \n",
       "978587           292.0    2248.0     12          31                B6   \n",
       "978588           221.0    1747.0     12          31                DL   \n",
       "978589           240.0    1956.0     12          31                UA   \n",
       "978590           224.0    1576.0     12          31                B6   \n",
       "978591           191.0    1242.0     12          31                OO   \n",
       "\n",
       "        OriginAirportID  OriginCityMarketID  OriginStateFips  OriginWac  \\\n",
       "0                 14771               32457                6         91   \n",
       "1                 14771               32457                6         91   \n",
       "2                 14747               30559               53         93   \n",
       "3                 12892               32575                6         91   \n",
       "4                 11292               30325                8         82   \n",
       "...                 ...                 ...              ...        ...   \n",
       "978587            12889               32211               32         85   \n",
       "978588            12889               32211               32         85   \n",
       "978589            14107               30466                4         81   \n",
       "978590            12478               31703               36         22   \n",
       "978591            12892               32575                6         91   \n",
       "\n",
       "        DestAirportID  DestCityMarketID  DestStateFips  DestWac  DepDel15  \n",
       "0               13930             30977             17       41       0.0  \n",
       "1               12266             31453             48       74       0.0  \n",
       "2               13930             30977             17       41       0.0  \n",
       "3               11618             31703             34       21       0.0  \n",
       "4               14635             31714             12       33       0.0  \n",
       "...               ...               ...            ...      ...       ...  \n",
       "978587          12478             31703             36       22       0.0  \n",
       "978588          10397             30397             13       34       0.0  \n",
       "978589          12264             30852             51       38       0.0  \n",
       "978590          10732             30732             72        3       0.0  \n",
       "978591          10423             30423             48       74       0.0  \n",
       "\n",
       "[978592 rows x 19 columns]"
      ]
     },
     "execution_count": 36,
     "metadata": {},
     "output_type": "execute_result"
    }
   ],
   "source": [
    "%%git_commit\n",
    "\n",
    "training.reset_index()\n",
    "testing.reset_index()\n"
   ]
  },
  {
   "cell_type": "code",
   "execution_count": 32,
   "metadata": {},
   "outputs": [],
   "source": [
    "%%git_commit\n",
    "\n",
    "encoders = {}\n",
    "\n",
    "one_hot = ['DestWac', 'DestStateFips', 'DestCityMarketID', 'DestAirportID', 'OriginWac', 'OriginStateFips', 'OriginCityMarketID', 'OriginAirportID', 'Operating_Airline', 'Dest', 'Origin', 'Airline' ]\n"
   ]
  },
  {
   "cell_type": "code",
   "execution_count": 35,
   "metadata": {},
   "outputs": [],
   "source": [
    "%%git_commit\n",
    "\n",
    "for hot in one_hot:\n",
    "    encode = OneHotEncoder(handle_unknown = 'ignore')\n",
    "    encode.fit(training[hot].to_numpy().reshape(-1, 1))\n",
    "    encoders[hot] = encode"
   ]
  },
  {
   "cell_type": "markdown",
   "metadata": {},
   "source": [
    "# Generate Time Series"
   ]
  },
  {
   "cell_type": "code",
   "execution_count": 66,
   "metadata": {},
   "outputs": [],
   "source": [
    "%%git_commit\n",
    "\n",
    "def get_previous_rows(df, current_row_index, previous_rows_num = 10):\n",
    "    ''' Given a sorted pandas dataframe and row index, return previous rows\n",
    "    \n",
    "    df: dataframe, eg. the training dataset\n",
    "    current_row_index: row index to get previous rows from\n",
    "    previous_rows_num: \n",
    "    \n",
    "    \n",
    "    '''\n",
    "    if previous_rows_num <= 0:\n",
    "        raise ValueError('invalid row number')\n",
    "    index = current_row_index - previous_rows_num\n",
    "    if index < 0:\n",
    "        raise ValueError('current_row_index less than previous_rows_num')\n",
    "    subset = df.iloc[index:current_row_index]\n",
    "    return subset\n",
    "\n",
    "\n",
    "month_days = {1: 31, 2: 29, 3: 31, 4:30, 5:31, 6:30, 7:31, 8:31, 9:30, 10:31, 11:30, 12:31}\n",
    "\n",
    "\n",
    "def _get_previous_days(num, month, day):\n",
    "    last = (month, day)\n",
    "    previous_days = [last]\n",
    "    for i in range(num - 1):\n",
    "        m, d = previous_days[-1]\n",
    "        if d == 1:\n",
    "            m -= 1\n",
    "            if m == 0:\n",
    "                raise ValueError('previous days not in dataset')\n",
    "            d = month_days[m]\n",
    "        else:\n",
    "            d -= 1\n",
    "        \n",
    "        previous_days.append((d, m))\n",
    "\n",
    "\n",
    "\n",
    "def get_previous_days(df, current_row_index, previous_days = 14):\n",
    "    ''' Given a sorted pandas dataframe with columns 'Month', 'DayofMonth', 'CRSDepTime', and a row index, \n",
    "    return the rows that are 'previous_days' days before 'df.iloc[current_row_index]'\n",
    "    \n",
    "    Note: this includes flights on the current day that have an estimated departure time BEFORE the df.iloc[current_row_index]\n",
    "    \n",
    "    df: dataframe, eg. training dataset\n",
    "    current_row_index: row index to evaluate\n",
    "    previous_days: number of days prior to row, counting current one\n",
    "    \n",
    "    '''\n",
    "    raise NotImplemented()\n",
    "    \n",
    "\n"
   ]
  },
  {
   "cell_type": "code",
   "execution_count": 61,
   "metadata": {},
   "outputs": [],
   "source": [
    "%%git_commit\n",
    "\n"
   ]
  },
  {
   "cell_type": "markdown",
   "metadata": {},
   "source": [
    "# Get Feature\n",
    "\n"
   ]
  },
  {
   "cell_type": "code",
   "execution_count": 40,
   "metadata": {},
   "outputs": [],
   "source": [
    "%%git_commit\n",
    "\n",
    "d3_column = ['Month', 'DayofMonth']\n",
    "\n",
    "\n",
    "for column in d3_column:\n",
    "    training = training.drop(column, axis = 1)\n",
    "    testing = testing.drop(column, axis = 1)\n"
   ]
  },
  {
   "cell_type": "code",
   "execution_count": 86,
   "metadata": {},
   "outputs": [
    {
     "data": {
      "text/plain": [
       "(<1x4873 sparse matrix of type '<class 'numpy.float64'>'\n",
       " \twith 116 stored elements in COOrdinate format>,\n",
       " array([0.]))"
      ]
     },
     "execution_count": 86,
     "metadata": {},
     "output_type": "execute_result"
    }
   ],
   "source": [
    "%%git_commit\n",
    "\n",
    "# features: count of previous 20\n",
    "not_hot = ['CRSDepTime', 'CRSElapsedTime', 'Distance']\n",
    "\n",
    "\n",
    "\n",
    "def get_feature_vector(sub_df, is_scalar = False):\n",
    "    array = []\n",
    "    for hot in one_hot:\n",
    "        x = np.asarray(sub_df[hot]).reshape(-1, 1)\n",
    "        x = encoders[hot].transform(x)\n",
    "        array.append(x)\n",
    "    for col in not_hot:\n",
    "        x = np.asarray(sub_df[col]).reshape(-1, 1)\n",
    "        array.append(x)\n",
    "\n",
    "    X_train = hstack(array)\n",
    "    y_train = np.asarray(sub_df['DepDel15']).reshape(-1)\n",
    "    \n",
    "    return X_train, y_train\n",
    "\n",
    "\n",
    "def get_features_row(df, index):\n",
    "    prev_rows = get_previous_rows(df, index)\n",
    "    prev_X, prev_Y = get_feature_vector(prev_rows)\n",
    "    prev_Y = prev_Y.reshape(-1, 1)   \n",
    "    prev_features = hstack([prev_X, prev_Y])\n",
    "    prev_features = np.sum(prev_features, axis = 0)\n",
    "    X, y = get_feature_vector(df.iloc[index], is_scalar = True)\n",
    "    X = hstack([prev_features, X])\n",
    "    return X, y\n",
    "\n",
    "\n",
    "get_features_row(training, 20)\n",
    "    "
   ]
  },
  {
   "cell_type": "code",
   "execution_count": 96,
   "metadata": {},
   "outputs": [
    {
     "name": "stdout",
     "output_type": "stream",
     "text": [
      "(980430, 16)\n",
      "(978592, 16)\n"
     ]
    }
   ],
   "source": [
    "%%git_commit\n",
    "\n",
    "X_train = []\n",
    "y_train = []\n",
    "X_test = []\n",
    "y_test = []\n",
    "\n",
    "print(training.shape)\n",
    "print(testing.shape)"
   ]
  },
  {
   "cell_type": "code",
   "execution_count": 97,
   "metadata": {},
   "outputs": [],
   "source": [
    "%%git_commit\n",
    "\n",
    "train = np.random.choice(np.arange(20, 980430), size = 50000, replace=False)\n",
    "test =  np.random.choice(np.arange(20, 978592), size = 50000, replace=False)  "
   ]
  },
  {
   "cell_type": "code",
   "execution_count": 100,
   "metadata": {},
   "outputs": [
    {
     "name": "stdout",
     "output_type": "stream",
     "text": [
      "0\n",
      "1000\n",
      "2000\n",
      "3000\n",
      "4000\n",
      "5000\n",
      "6000\n",
      "7000\n",
      "8000\n",
      "9000\n",
      "10000\n",
      "11000\n",
      "12000\n",
      "13000\n",
      "14000\n",
      "15000\n",
      "16000\n",
      "17000\n",
      "18000\n",
      "19000\n",
      "20000\n",
      "21000\n",
      "22000\n",
      "23000\n",
      "24000\n",
      "25000\n",
      "26000\n",
      "27000\n",
      "28000\n",
      "29000\n",
      "30000\n",
      "31000\n",
      "32000\n",
      "33000\n",
      "34000\n",
      "35000\n",
      "36000\n",
      "37000\n",
      "38000\n",
      "39000\n",
      "40000\n",
      "41000\n",
      "42000\n",
      "43000\n",
      "44000\n",
      "45000\n",
      "46000\n",
      "47000\n",
      "48000\n",
      "49000\n"
     ]
    }
   ],
   "source": [
    "%%git_commit\n",
    "\n",
    "for i,j in enumerate(train):\n",
    "    if i%1000 == 0:\n",
    "        print(i)\n",
    "    X, y = get_features_row(training, j)\n",
    "    X_train.append(X)\n",
    "    y_train.append(y)\n"
   ]
  },
  {
   "cell_type": "code",
   "execution_count": 101,
   "metadata": {},
   "outputs": [
    {
     "name": "stdout",
     "output_type": "stream",
     "text": [
      "0\n",
      "1000\n",
      "2000\n",
      "3000\n",
      "4000\n",
      "5000\n",
      "6000\n",
      "7000\n",
      "8000\n",
      "9000\n",
      "10000\n",
      "11000\n",
      "12000\n",
      "13000\n",
      "14000\n",
      "15000\n",
      "16000\n",
      "17000\n",
      "18000\n",
      "19000\n",
      "20000\n",
      "21000\n",
      "22000\n",
      "23000\n",
      "24000\n",
      "25000\n",
      "26000\n",
      "27000\n",
      "28000\n",
      "29000\n",
      "30000\n",
      "31000\n",
      "32000\n",
      "33000\n",
      "34000\n",
      "35000\n",
      "36000\n",
      "37000\n",
      "38000\n",
      "39000\n",
      "40000\n",
      "41000\n",
      "42000\n",
      "43000\n",
      "44000\n",
      "45000\n",
      "46000\n",
      "47000\n",
      "48000\n",
      "49000\n"
     ]
    }
   ],
   "source": [
    "%%git_commit\n",
    "for i,j in enumerate(test):\n",
    "    if i%1000 == 0:\n",
    "        print(i)\n",
    "    X, y = get_features_row(testing, j)\n",
    "    X_test.append(X)\n",
    "    y_test.append(y)\n",
    "    "
   ]
  },
  {
   "cell_type": "code",
   "execution_count": 110,
   "metadata": {},
   "outputs": [],
   "source": [
    "%%git_commit\n",
    "for i in range(len(y_test)):\n",
    "    y_test[i] = y_test[i].reshape((-1, 1))\n",
    "\n",
    "for i in range(len(y_train)):\n",
    "    y_train[i] = y_train[i].reshape((-1, 1))\n",
    "    \n"
   ]
  },
  {
   "cell_type": "code",
   "execution_count": null,
   "metadata": {},
   "outputs": [],
   "source": [
    "%%git_commit\n",
    "print(y_)"
   ]
  },
  {
   "cell_type": "code",
   "execution_count": 115,
   "metadata": {},
   "outputs": [],
   "source": [
    "%%git_commit\n",
    "#X_test = vstack(tuple(X_test))\n",
    "#y_test = vstack(y_test)\n",
    "X_train = vstack(X_train)\n",
    "#y_train = vstack(y_train)"
   ]
  },
  {
   "cell_type": "code",
   "execution_count": 119,
   "metadata": {},
   "outputs": [
    {
     "name": "stdout",
     "output_type": "stream",
     "text": [
      "(50000, 4873)\n"
     ]
    },
    {
     "ename": "TypeError",
     "evalue": "'coo_matrix' object is not subscriptable",
     "output_type": "error",
     "traceback": [
      "\u001b[0;31m---------------------------------------------------------------------------\u001b[0m",
      "\u001b[0;31mTypeError\u001b[0m                                 Traceback (most recent call last)",
      "\u001b[0;32m<ipython-input-119-4280bbf0c7b9>\u001b[0m in \u001b[0;36m<module>\u001b[0;34m\u001b[0m\n\u001b[1;32m      1\u001b[0m \u001b[0mprint\u001b[0m\u001b[0;34m(\u001b[0m\u001b[0mX_test\u001b[0m\u001b[0;34m.\u001b[0m\u001b[0mshape\u001b[0m\u001b[0;34m)\u001b[0m\u001b[0;34m\u001b[0m\u001b[0;34m\u001b[0m\u001b[0m\n\u001b[0;32m----> 2\u001b[0;31m \u001b[0mX_train\u001b[0m \u001b[0;34m=\u001b[0m \u001b[0mX_train\u001b[0m\u001b[0;34m[\u001b[0m\u001b[0;36m248\u001b[0m\u001b[0;34m:\u001b[0m\u001b[0;34m]\u001b[0m\u001b[0;34m\u001b[0m\u001b[0;34m\u001b[0m\u001b[0m\n\u001b[0m\u001b[1;32m      3\u001b[0m \u001b[0my_train\u001b[0m \u001b[0;34m=\u001b[0m \u001b[0my_train\u001b[0m\u001b[0;34m[\u001b[0m\u001b[0;36m248\u001b[0m\u001b[0;34m:\u001b[0m\u001b[0;34m]\u001b[0m\u001b[0;34m\u001b[0m\u001b[0;34m\u001b[0m\u001b[0m\n",
      "\u001b[0;31mTypeError\u001b[0m: 'coo_matrix' object is not subscriptable"
     ]
    }
   ],
   "source": [
    "%%git_commit\n",
    "y_test = vstnack(y_test)\n",
    "y_train = vstack(y_train)"
   ]
  },
  {
   "cell_type": "markdown",
   "metadata": {},
   "source": [
    "# Model Training\n"
   ]
  },
  {
   "cell_type": "code",
   "execution_count": 106,
   "metadata": {},
   "outputs": [],
   "source": [
    "%%git_commit\n",
    "from sklearn.ensemble import RandomForestRegressor\n",
    "from sklearn.ensemble import RandomForestClassifier\n",
    "from sklearn.metrics import explained_variance_score\n",
    "from sklearn.linear_model import LinearRegression\n",
    "from sklearn.metrics import accuracy_score, ConfusionMatrixDisplay, confusion_matrix\n",
    "import matplotlib.pyplot as plt"
   ]
  },
  {
   "cell_type": "code",
   "execution_count": 107,
   "metadata": {},
   "outputs": [
    {
     "ename": "TypeError",
     "evalue": "float() argument must be a string or a number, not 'coo_matrix'",
     "output_type": "error",
     "traceback": [
      "\u001b[0;31m---------------------------------------------------------------------------\u001b[0m",
      "\u001b[0;31mTypeError\u001b[0m                                 Traceback (most recent call last)",
      "\u001b[0;32m<ipython-input-107-e938cbb8bfdd>\u001b[0m in \u001b[0;36m<module>\u001b[0;34m\u001b[0m\n\u001b[1;32m      1\u001b[0m \u001b[0mmodel\u001b[0m \u001b[0;34m=\u001b[0m \u001b[0mRandomForestClassifier\u001b[0m\u001b[0;34m(\u001b[0m\u001b[0mmin_samples_leaf\u001b[0m \u001b[0;34m=\u001b[0m \u001b[0;36m100\u001b[0m\u001b[0;34m)\u001b[0m\u001b[0;34m\u001b[0m\u001b[0;34m\u001b[0m\u001b[0m\n\u001b[0;32m----> 2\u001b[0;31m \u001b[0mmodel\u001b[0m\u001b[0;34m.\u001b[0m\u001b[0mfit\u001b[0m\u001b[0;34m(\u001b[0m\u001b[0mX_train\u001b[0m\u001b[0;34m,\u001b[0m \u001b[0my_train\u001b[0m\u001b[0;34m)\u001b[0m\u001b[0;34m\u001b[0m\u001b[0;34m\u001b[0m\u001b[0m\n\u001b[0m",
      "\u001b[0;32m~/anaconda3/lib/python3.8/site-packages/sklearn/ensemble/_forest.py\u001b[0m in \u001b[0;36mfit\u001b[0;34m(self, X, y, sample_weight)\u001b[0m\n\u001b[1;32m    301\u001b[0m                 \u001b[0;34m\"sparse multilabel-indicator for y is not supported.\"\u001b[0m\u001b[0;34m\u001b[0m\u001b[0;34m\u001b[0m\u001b[0m\n\u001b[1;32m    302\u001b[0m             )\n\u001b[0;32m--> 303\u001b[0;31m         X, y = self._validate_data(X, y, multi_output=True,\n\u001b[0m\u001b[1;32m    304\u001b[0m                                    accept_sparse=\"csc\", dtype=DTYPE)\n\u001b[1;32m    305\u001b[0m         \u001b[0;32mif\u001b[0m \u001b[0msample_weight\u001b[0m \u001b[0;32mis\u001b[0m \u001b[0;32mnot\u001b[0m \u001b[0;32mNone\u001b[0m\u001b[0;34m:\u001b[0m\u001b[0;34m\u001b[0m\u001b[0;34m\u001b[0m\u001b[0m\n",
      "\u001b[0;32m~/anaconda3/lib/python3.8/site-packages/sklearn/base.py\u001b[0m in \u001b[0;36m_validate_data\u001b[0;34m(self, X, y, reset, validate_separately, **check_params)\u001b[0m\n\u001b[1;32m    432\u001b[0m                 \u001b[0my\u001b[0m \u001b[0;34m=\u001b[0m \u001b[0mcheck_array\u001b[0m\u001b[0;34m(\u001b[0m\u001b[0my\u001b[0m\u001b[0;34m,\u001b[0m \u001b[0;34m**\u001b[0m\u001b[0mcheck_y_params\u001b[0m\u001b[0;34m)\u001b[0m\u001b[0;34m\u001b[0m\u001b[0;34m\u001b[0m\u001b[0m\n\u001b[1;32m    433\u001b[0m             \u001b[0;32melse\u001b[0m\u001b[0;34m:\u001b[0m\u001b[0;34m\u001b[0m\u001b[0;34m\u001b[0m\u001b[0m\n\u001b[0;32m--> 434\u001b[0;31m                 \u001b[0mX\u001b[0m\u001b[0;34m,\u001b[0m \u001b[0my\u001b[0m \u001b[0;34m=\u001b[0m \u001b[0mcheck_X_y\u001b[0m\u001b[0;34m(\u001b[0m\u001b[0mX\u001b[0m\u001b[0;34m,\u001b[0m \u001b[0my\u001b[0m\u001b[0;34m,\u001b[0m \u001b[0;34m**\u001b[0m\u001b[0mcheck_params\u001b[0m\u001b[0;34m)\u001b[0m\u001b[0;34m\u001b[0m\u001b[0;34m\u001b[0m\u001b[0m\n\u001b[0m\u001b[1;32m    435\u001b[0m             \u001b[0mout\u001b[0m \u001b[0;34m=\u001b[0m \u001b[0mX\u001b[0m\u001b[0;34m,\u001b[0m \u001b[0my\u001b[0m\u001b[0;34m\u001b[0m\u001b[0;34m\u001b[0m\u001b[0m\n\u001b[1;32m    436\u001b[0m \u001b[0;34m\u001b[0m\u001b[0m\n",
      "\u001b[0;32m~/anaconda3/lib/python3.8/site-packages/sklearn/utils/validation.py\u001b[0m in \u001b[0;36minner_f\u001b[0;34m(*args, **kwargs)\u001b[0m\n\u001b[1;32m     70\u001b[0m                           FutureWarning)\n\u001b[1;32m     71\u001b[0m         \u001b[0mkwargs\u001b[0m\u001b[0;34m.\u001b[0m\u001b[0mupdate\u001b[0m\u001b[0;34m(\u001b[0m\u001b[0;34m{\u001b[0m\u001b[0mk\u001b[0m\u001b[0;34m:\u001b[0m \u001b[0marg\u001b[0m \u001b[0;32mfor\u001b[0m \u001b[0mk\u001b[0m\u001b[0;34m,\u001b[0m \u001b[0marg\u001b[0m \u001b[0;32min\u001b[0m \u001b[0mzip\u001b[0m\u001b[0;34m(\u001b[0m\u001b[0msig\u001b[0m\u001b[0;34m.\u001b[0m\u001b[0mparameters\u001b[0m\u001b[0;34m,\u001b[0m \u001b[0margs\u001b[0m\u001b[0;34m)\u001b[0m\u001b[0;34m}\u001b[0m\u001b[0;34m)\u001b[0m\u001b[0;34m\u001b[0m\u001b[0;34m\u001b[0m\u001b[0m\n\u001b[0;32m---> 72\u001b[0;31m         \u001b[0;32mreturn\u001b[0m \u001b[0mf\u001b[0m\u001b[0;34m(\u001b[0m\u001b[0;34m**\u001b[0m\u001b[0mkwargs\u001b[0m\u001b[0;34m)\u001b[0m\u001b[0;34m\u001b[0m\u001b[0;34m\u001b[0m\u001b[0m\n\u001b[0m\u001b[1;32m     73\u001b[0m     \u001b[0;32mreturn\u001b[0m \u001b[0minner_f\u001b[0m\u001b[0;34m\u001b[0m\u001b[0;34m\u001b[0m\u001b[0m\n\u001b[1;32m     74\u001b[0m \u001b[0;34m\u001b[0m\u001b[0m\n",
      "\u001b[0;32m~/anaconda3/lib/python3.8/site-packages/sklearn/utils/validation.py\u001b[0m in \u001b[0;36mcheck_X_y\u001b[0;34m(X, y, accept_sparse, accept_large_sparse, dtype, order, copy, force_all_finite, ensure_2d, allow_nd, multi_output, ensure_min_samples, ensure_min_features, y_numeric, estimator)\u001b[0m\n\u001b[1;32m    793\u001b[0m         \u001b[0;32mraise\u001b[0m \u001b[0mValueError\u001b[0m\u001b[0;34m(\u001b[0m\u001b[0;34m\"y cannot be None\"\u001b[0m\u001b[0;34m)\u001b[0m\u001b[0;34m\u001b[0m\u001b[0;34m\u001b[0m\u001b[0m\n\u001b[1;32m    794\u001b[0m \u001b[0;34m\u001b[0m\u001b[0m\n\u001b[0;32m--> 795\u001b[0;31m     X = check_array(X, accept_sparse=accept_sparse,\n\u001b[0m\u001b[1;32m    796\u001b[0m                     \u001b[0maccept_large_sparse\u001b[0m\u001b[0;34m=\u001b[0m\u001b[0maccept_large_sparse\u001b[0m\u001b[0;34m,\u001b[0m\u001b[0;34m\u001b[0m\u001b[0;34m\u001b[0m\u001b[0m\n\u001b[1;32m    797\u001b[0m                     \u001b[0mdtype\u001b[0m\u001b[0;34m=\u001b[0m\u001b[0mdtype\u001b[0m\u001b[0;34m,\u001b[0m \u001b[0morder\u001b[0m\u001b[0;34m=\u001b[0m\u001b[0morder\u001b[0m\u001b[0;34m,\u001b[0m \u001b[0mcopy\u001b[0m\u001b[0;34m=\u001b[0m\u001b[0mcopy\u001b[0m\u001b[0;34m,\u001b[0m\u001b[0;34m\u001b[0m\u001b[0;34m\u001b[0m\u001b[0m\n",
      "\u001b[0;32m~/anaconda3/lib/python3.8/site-packages/sklearn/utils/validation.py\u001b[0m in \u001b[0;36minner_f\u001b[0;34m(*args, **kwargs)\u001b[0m\n\u001b[1;32m     70\u001b[0m                           FutureWarning)\n\u001b[1;32m     71\u001b[0m         \u001b[0mkwargs\u001b[0m\u001b[0;34m.\u001b[0m\u001b[0mupdate\u001b[0m\u001b[0;34m(\u001b[0m\u001b[0;34m{\u001b[0m\u001b[0mk\u001b[0m\u001b[0;34m:\u001b[0m \u001b[0marg\u001b[0m \u001b[0;32mfor\u001b[0m \u001b[0mk\u001b[0m\u001b[0;34m,\u001b[0m \u001b[0marg\u001b[0m \u001b[0;32min\u001b[0m \u001b[0mzip\u001b[0m\u001b[0;34m(\u001b[0m\u001b[0msig\u001b[0m\u001b[0;34m.\u001b[0m\u001b[0mparameters\u001b[0m\u001b[0;34m,\u001b[0m \u001b[0margs\u001b[0m\u001b[0;34m)\u001b[0m\u001b[0;34m}\u001b[0m\u001b[0;34m)\u001b[0m\u001b[0;34m\u001b[0m\u001b[0;34m\u001b[0m\u001b[0m\n\u001b[0;32m---> 72\u001b[0;31m         \u001b[0;32mreturn\u001b[0m \u001b[0mf\u001b[0m\u001b[0;34m(\u001b[0m\u001b[0;34m**\u001b[0m\u001b[0mkwargs\u001b[0m\u001b[0;34m)\u001b[0m\u001b[0;34m\u001b[0m\u001b[0;34m\u001b[0m\u001b[0m\n\u001b[0m\u001b[1;32m     73\u001b[0m     \u001b[0;32mreturn\u001b[0m \u001b[0minner_f\u001b[0m\u001b[0;34m\u001b[0m\u001b[0;34m\u001b[0m\u001b[0m\n\u001b[1;32m     74\u001b[0m \u001b[0;34m\u001b[0m\u001b[0m\n",
      "\u001b[0;32m~/anaconda3/lib/python3.8/site-packages/sklearn/utils/validation.py\u001b[0m in \u001b[0;36mcheck_array\u001b[0;34m(array, accept_sparse, accept_large_sparse, dtype, order, copy, force_all_finite, ensure_2d, allow_nd, ensure_min_samples, ensure_min_features, estimator)\u001b[0m\n\u001b[1;32m    596\u001b[0m                     \u001b[0marray\u001b[0m \u001b[0;34m=\u001b[0m \u001b[0marray\u001b[0m\u001b[0;34m.\u001b[0m\u001b[0mastype\u001b[0m\u001b[0;34m(\u001b[0m\u001b[0mdtype\u001b[0m\u001b[0;34m,\u001b[0m \u001b[0mcasting\u001b[0m\u001b[0;34m=\u001b[0m\u001b[0;34m\"unsafe\"\u001b[0m\u001b[0;34m,\u001b[0m \u001b[0mcopy\u001b[0m\u001b[0;34m=\u001b[0m\u001b[0;32mFalse\u001b[0m\u001b[0;34m)\u001b[0m\u001b[0;34m\u001b[0m\u001b[0;34m\u001b[0m\u001b[0m\n\u001b[1;32m    597\u001b[0m                 \u001b[0;32melse\u001b[0m\u001b[0;34m:\u001b[0m\u001b[0;34m\u001b[0m\u001b[0;34m\u001b[0m\u001b[0m\n\u001b[0;32m--> 598\u001b[0;31m                     \u001b[0marray\u001b[0m \u001b[0;34m=\u001b[0m \u001b[0mnp\u001b[0m\u001b[0;34m.\u001b[0m\u001b[0masarray\u001b[0m\u001b[0;34m(\u001b[0m\u001b[0marray\u001b[0m\u001b[0;34m,\u001b[0m \u001b[0morder\u001b[0m\u001b[0;34m=\u001b[0m\u001b[0morder\u001b[0m\u001b[0;34m,\u001b[0m \u001b[0mdtype\u001b[0m\u001b[0;34m=\u001b[0m\u001b[0mdtype\u001b[0m\u001b[0;34m)\u001b[0m\u001b[0;34m\u001b[0m\u001b[0;34m\u001b[0m\u001b[0m\n\u001b[0m\u001b[1;32m    599\u001b[0m             \u001b[0;32mexcept\u001b[0m \u001b[0mComplexWarning\u001b[0m\u001b[0;34m:\u001b[0m\u001b[0;34m\u001b[0m\u001b[0;34m\u001b[0m\u001b[0m\n\u001b[1;32m    600\u001b[0m                 raise ValueError(\"Complex data not supported\\n\"\n",
      "\u001b[0;31mTypeError\u001b[0m: float() argument must be a string or a number, not 'coo_matrix'"
     ]
    }
   ],
   "source": [
    "%%git_commit\n",
    "model = RandomForestClassifier(min_samples_leaf = 100)\n",
    "model.fit(X_train, y_train)"
   ]
  },
  {
   "cell_type": "code",
   "execution_count": null,
   "metadata": {},
   "outputs": [],
   "source": [
    "%%git_commit\n",
    "y_out = model.predict(X_test)\n",
    "matrix = confusion_matrix(y_test, y_out)\n",
    "display = ConfusionMatrixDisplay(matrix)\n",
    "display.plot()"
   ]
  },
  {
   "cell_type": "code",
   "execution_count": null,
   "metadata": {},
   "outputs": [],
   "source": [
    "%%git_commit\n",
    "print(accuracy_score(y_test, y_out))"
   ]
  }
 ],
 "metadata": {
  "kernelspec": {
   "display_name": "Python 3",
   "language": "python",
   "name": "python3"
  },
  "language_info": {
   "codemirror_mode": {
    "name": "ipython",
    "version": 3
   },
   "file_extension": ".py",
   "mimetype": "text/x-python",
   "name": "python",
   "nbconvert_exporter": "python",
   "pygments_lexer": "ipython3",
   "version": "3.8.5"
  }
 },
 "nbformat": 4,
 "nbformat_minor": 4
}
